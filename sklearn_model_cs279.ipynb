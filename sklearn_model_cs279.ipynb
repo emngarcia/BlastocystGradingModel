{
 "cells": [
  {
   "cell_type": "code",
   "execution_count": 1,
   "id": "0f8229fd",
   "metadata": {},
   "outputs": [],
   "source": [
    "import pandas as pd"
   ]
  },
  {
   "cell_type": "code",
   "execution_count": 5,
   "id": "2294d600",
   "metadata": {},
   "outputs": [],
   "source": [
    "df = pd.read_csv(\"BlastocystData_Image.csv\")\n",
    "silver = pd.read_csv(\"silver_labeled.csv\")\n",
    "gold = pd.read_csv(\"gold_labeled.csv\")"
   ]
  },
  {
   "cell_type": "code",
   "execution_count": 6,
   "id": "3f2e1ec9",
   "metadata": {},
   "outputs": [],
   "source": [
    "silver[\"category\"] = \"Silver\""
   ]
  },
  {
   "cell_type": "code",
   "execution_count": 7,
   "id": "a78a1c7d",
   "metadata": {},
   "outputs": [],
   "source": [
    "gold[\"category\"] = \"Gold\""
   ]
  },
  {
   "cell_type": "code",
   "execution_count": 8,
   "id": "df61565f",
   "metadata": {},
   "outputs": [],
   "source": [
    "#Renaming columns for silver training set\n",
    "silver = silver.rename(columns={\"EXP_silver\": \"EXP\", \"ICM_silver\": \"ICM\", \"TE_silver\": \"TE\"})\n",
    "\n",
    "#Renaming columns for gold testing set\n",
    "gold = gold.rename(columns={\"EXP_gold\": \"EXP\", \"ICM_gold\": \"ICM\", \"TE_gold\": \"TE\"})"
   ]
  },
  {
   "cell_type": "code",
   "execution_count": 11,
   "id": "326f104a",
   "metadata": {},
   "outputs": [],
   "source": [
    "#make one big train test file with corresponding silver/gold label for train, test indication\n",
    "result = pd.concat([silver, gold])"
   ]
  },
  {
   "cell_type": "code",
   "execution_count": 17,
   "id": "7ebdb230",
   "metadata": {},
   "outputs": [],
   "source": [
    "#create one dataset with corresponding labels and cell tool features\n",
    "relevant_categories = result[[\"Image\", \"label\", \"category\"]]\n",
    "\n",
    "def filter_string(string):\n",
    "    #change file path below to the file path shown in your df[\"URL_BlastocystOriginal\"]\n",
    "    returnval = string.replace(\"file:/Users/ElizabethMiriya/Downloads/Blastocyst_Dataset/Images/\", \"\")\n",
    "    return returnval\n",
    "\n",
    "df[\"URL_BlastocystOriginal\"] = df[\"URL_BlastocystOriginal\"].apply(lambda x: filter_string(x))\n",
    "relevant_categories = relevant_categories.rename(columns={\"Image\": \"URL_BlastocystOriginal\"})\n",
    "aligned_df = pd.merge(df, relevant_categories, on='URL_BlastocystOriginal', how='inner') "
   ]
  },
  {
   "cell_type": "code",
   "execution_count": 19,
   "id": "de6d31f8",
   "metadata": {},
   "outputs": [],
   "source": [
    "#drop columns with too many NA values\n",
    "aligned_df.drop(columns = ['Mean_ICM_AreaShape_NormalizedMoment_0_0',\n",
    "       'Mean_ICM_AreaShape_NormalizedMoment_0_1',\n",
    "       'Mean_ICM_AreaShape_NormalizedMoment_1_0',\n",
    "       'Mean_Outlines_AreaShape_NormalizedMoment_0_0',\n",
    "       'Mean_Outlines_AreaShape_NormalizedMoment_0_1',\n",
    "       'Mean_Outlines_AreaShape_NormalizedMoment_1_0',\n",
    "       'Median_ICM_AreaShape_NormalizedMoment_0_0',\n",
    "       'Median_ICM_AreaShape_NormalizedMoment_0_1',\n",
    "       'Median_ICM_AreaShape_NormalizedMoment_1_0',\n",
    "       'Median_Outlines_AreaShape_NormalizedMoment_0_0',\n",
    "       'Median_Outlines_AreaShape_NormalizedMoment_0_1',\n",
    "       'Median_Outlines_AreaShape_NormalizedMoment_1_0',\n",
    "       'StDev_ICM_AreaShape_NormalizedMoment_0_0',\n",
    "       'StDev_ICM_AreaShape_NormalizedMoment_0_1',\n",
    "       'StDev_ICM_AreaShape_NormalizedMoment_1_0',\n",
    "       'StDev_Outlines_AreaShape_NormalizedMoment_0_0',\n",
    "       'StDev_Outlines_AreaShape_NormalizedMoment_0_1',\n",
    "       'StDev_Outlines_AreaShape_NormalizedMoment_1_0'], inplace=True)"
   ]
  },
  {
   "cell_type": "code",
   "execution_count": 21,
   "id": "51ab1bcd",
   "metadata": {},
   "outputs": [
    {
     "name": "stdout",
     "output_type": "stream",
     "text": [
      "Fitting 5 folds for each of 100 candidates, totalling 500 fits\n"
     ]
    },
    {
     "name": "stderr",
     "output_type": "stream",
     "text": [
      "/opt/anaconda3/lib/python3.9/site-packages/sklearn/ensemble/_forest.py:424: FutureWarning: `max_features='auto'` has been deprecated in 1.1 and will be removed in 1.3. To keep the past behaviour, explicitly set `max_features='sqrt'` or remove this parameter as it is also the default value for RandomForestClassifiers and ExtraTreesClassifiers.\n",
      "  warn(\n"
     ]
    },
    {
     "name": "stdout",
     "output_type": "stream",
     "text": [
      "[CV] END max_depth=7, max_features=auto, min_samples_leaf=15, min_samples_split=12, n_estimators=81; total time=   1.2s\n"
     ]
    },
    {
     "name": "stderr",
     "output_type": "stream",
     "text": [
      "/opt/anaconda3/lib/python3.9/site-packages/sklearn/ensemble/_forest.py:424: FutureWarning: `max_features='auto'` has been deprecated in 1.1 and will be removed in 1.3. To keep the past behaviour, explicitly set `max_features='sqrt'` or remove this parameter as it is also the default value for RandomForestClassifiers and ExtraTreesClassifiers.\n",
      "  warn(\n"
     ]
    },
    {
     "name": "stdout",
     "output_type": "stream",
     "text": [
      "[CV] END max_depth=7, max_features=auto, min_samples_leaf=15, min_samples_split=12, n_estimators=81; total time=   1.2s\n"
     ]
    },
    {
     "name": "stderr",
     "output_type": "stream",
     "text": [
      "/opt/anaconda3/lib/python3.9/site-packages/sklearn/ensemble/_forest.py:424: FutureWarning: `max_features='auto'` has been deprecated in 1.1 and will be removed in 1.3. To keep the past behaviour, explicitly set `max_features='sqrt'` or remove this parameter as it is also the default value for RandomForestClassifiers and ExtraTreesClassifiers.\n",
      "  warn(\n"
     ]
    },
    {
     "name": "stdout",
     "output_type": "stream",
     "text": [
      "[CV] END max_depth=7, max_features=auto, min_samples_leaf=15, min_samples_split=12, n_estimators=81; total time=   1.2s\n"
     ]
    },
    {
     "name": "stderr",
     "output_type": "stream",
     "text": [
      "/opt/anaconda3/lib/python3.9/site-packages/sklearn/ensemble/_forest.py:424: FutureWarning: `max_features='auto'` has been deprecated in 1.1 and will be removed in 1.3. To keep the past behaviour, explicitly set `max_features='sqrt'` or remove this parameter as it is also the default value for RandomForestClassifiers and ExtraTreesClassifiers.\n",
      "  warn(\n"
     ]
    },
    {
     "name": "stdout",
     "output_type": "stream",
     "text": [
      "[CV] END max_depth=7, max_features=auto, min_samples_leaf=15, min_samples_split=12, n_estimators=81; total time=   1.2s\n"
     ]
    },
    {
     "name": "stderr",
     "output_type": "stream",
     "text": [
      "/opt/anaconda3/lib/python3.9/site-packages/sklearn/ensemble/_forest.py:424: FutureWarning: `max_features='auto'` has been deprecated in 1.1 and will be removed in 1.3. To keep the past behaviour, explicitly set `max_features='sqrt'` or remove this parameter as it is also the default value for RandomForestClassifiers and ExtraTreesClassifiers.\n",
      "  warn(\n"
     ]
    },
    {
     "name": "stdout",
     "output_type": "stream",
     "text": [
      "[CV] END max_depth=7, max_features=auto, min_samples_leaf=15, min_samples_split=12, n_estimators=81; total time=   1.2s\n",
      "[CV] END max_depth=7, max_features=sqrt, min_samples_leaf=19, min_samples_split=12, n_estimators=97; total time=   1.4s\n",
      "[CV] END max_depth=7, max_features=sqrt, min_samples_leaf=19, min_samples_split=12, n_estimators=97; total time=   1.4s\n",
      "[CV] END max_depth=7, max_features=sqrt, min_samples_leaf=19, min_samples_split=12, n_estimators=97; total time=   1.4s\n",
      "[CV] END max_depth=7, max_features=sqrt, min_samples_leaf=19, min_samples_split=12, n_estimators=97; total time=   1.4s\n",
      "[CV] END max_depth=7, max_features=sqrt, min_samples_leaf=19, min_samples_split=12, n_estimators=97; total time=   1.4s\n",
      "[CV] END max_depth=4, max_features=log2, min_samples_leaf=2, min_samples_split=13, n_estimators=167; total time=   0.7s\n",
      "[CV] END max_depth=4, max_features=log2, min_samples_leaf=2, min_samples_split=13, n_estimators=167; total time=   0.7s\n",
      "[CV] END max_depth=4, max_features=log2, min_samples_leaf=2, min_samples_split=13, n_estimators=167; total time=   0.7s\n",
      "[CV] END max_depth=4, max_features=log2, min_samples_leaf=2, min_samples_split=13, n_estimators=167; total time=   0.7s\n",
      "[CV] END max_depth=4, max_features=log2, min_samples_leaf=2, min_samples_split=13, n_estimators=167; total time=   0.7s\n",
      "[CV] END max_depth=6, max_features=sqrt, min_samples_leaf=1, min_samples_split=13, n_estimators=67; total time=   1.0s\n",
      "[CV] END max_depth=6, max_features=sqrt, min_samples_leaf=1, min_samples_split=13, n_estimators=67; total time=   1.1s\n",
      "[CV] END max_depth=6, max_features=sqrt, min_samples_leaf=1, min_samples_split=13, n_estimators=67; total time=   1.1s\n",
      "[CV] END max_depth=6, max_features=sqrt, min_samples_leaf=1, min_samples_split=13, n_estimators=67; total time=   1.1s\n",
      "[CV] END max_depth=6, max_features=sqrt, min_samples_leaf=1, min_samples_split=13, n_estimators=67; total time=   1.1s\n"
     ]
    },
    {
     "name": "stderr",
     "output_type": "stream",
     "text": [
      "/opt/anaconda3/lib/python3.9/site-packages/sklearn/ensemble/_forest.py:424: FutureWarning: `max_features='auto'` has been deprecated in 1.1 and will be removed in 1.3. To keep the past behaviour, explicitly set `max_features='sqrt'` or remove this parameter as it is also the default value for RandomForestClassifiers and ExtraTreesClassifiers.\n",
      "  warn(\n"
     ]
    },
    {
     "name": "stdout",
     "output_type": "stream",
     "text": [
      "[CV] END max_depth=12, max_features=auto, min_samples_leaf=17, min_samples_split=11, n_estimators=197; total time=   3.0s\n"
     ]
    },
    {
     "name": "stderr",
     "output_type": "stream",
     "text": [
      "/opt/anaconda3/lib/python3.9/site-packages/sklearn/ensemble/_forest.py:424: FutureWarning: `max_features='auto'` has been deprecated in 1.1 and will be removed in 1.3. To keep the past behaviour, explicitly set `max_features='sqrt'` or remove this parameter as it is also the default value for RandomForestClassifiers and ExtraTreesClassifiers.\n",
      "  warn(\n"
     ]
    },
    {
     "name": "stdout",
     "output_type": "stream",
     "text": [
      "[CV] END max_depth=12, max_features=auto, min_samples_leaf=17, min_samples_split=11, n_estimators=197; total time=   3.0s\n"
     ]
    },
    {
     "name": "stderr",
     "output_type": "stream",
     "text": [
      "/opt/anaconda3/lib/python3.9/site-packages/sklearn/ensemble/_forest.py:424: FutureWarning: `max_features='auto'` has been deprecated in 1.1 and will be removed in 1.3. To keep the past behaviour, explicitly set `max_features='sqrt'` or remove this parameter as it is also the default value for RandomForestClassifiers and ExtraTreesClassifiers.\n",
      "  warn(\n"
     ]
    },
    {
     "name": "stdout",
     "output_type": "stream",
     "text": [
      "[CV] END max_depth=12, max_features=auto, min_samples_leaf=17, min_samples_split=11, n_estimators=197; total time=   3.0s\n"
     ]
    },
    {
     "name": "stderr",
     "output_type": "stream",
     "text": [
      "/opt/anaconda3/lib/python3.9/site-packages/sklearn/ensemble/_forest.py:424: FutureWarning: `max_features='auto'` has been deprecated in 1.1 and will be removed in 1.3. To keep the past behaviour, explicitly set `max_features='sqrt'` or remove this parameter as it is also the default value for RandomForestClassifiers and ExtraTreesClassifiers.\n",
      "  warn(\n"
     ]
    },
    {
     "name": "stdout",
     "output_type": "stream",
     "text": [
      "[CV] END max_depth=12, max_features=auto, min_samples_leaf=17, min_samples_split=11, n_estimators=197; total time=   3.0s\n"
     ]
    },
    {
     "name": "stderr",
     "output_type": "stream",
     "text": [
      "/opt/anaconda3/lib/python3.9/site-packages/sklearn/ensemble/_forest.py:424: FutureWarning: `max_features='auto'` has been deprecated in 1.1 and will be removed in 1.3. To keep the past behaviour, explicitly set `max_features='sqrt'` or remove this parameter as it is also the default value for RandomForestClassifiers and ExtraTreesClassifiers.\n",
      "  warn(\n"
     ]
    },
    {
     "name": "stdout",
     "output_type": "stream",
     "text": [
      "[CV] END max_depth=12, max_features=auto, min_samples_leaf=17, min_samples_split=11, n_estimators=197; total time=   3.0s\n",
      "[CV] END max_depth=16, max_features=log2, min_samples_leaf=15, min_samples_split=13, n_estimators=64; total time=   0.4s\n",
      "[CV] END max_depth=16, max_features=log2, min_samples_leaf=15, min_samples_split=13, n_estimators=64; total time=   0.4s\n",
      "[CV] END max_depth=16, max_features=log2, min_samples_leaf=15, min_samples_split=13, n_estimators=64; total time=   0.4s\n",
      "[CV] END max_depth=16, max_features=log2, min_samples_leaf=15, min_samples_split=13, n_estimators=64; total time=   0.4s\n",
      "[CV] END max_depth=16, max_features=log2, min_samples_leaf=15, min_samples_split=13, n_estimators=64; total time=   0.4s\n"
     ]
    },
    {
     "name": "stderr",
     "output_type": "stream",
     "text": [
      "/opt/anaconda3/lib/python3.9/site-packages/sklearn/ensemble/_forest.py:424: FutureWarning: `max_features='auto'` has been deprecated in 1.1 and will be removed in 1.3. To keep the past behaviour, explicitly set `max_features='sqrt'` or remove this parameter as it is also the default value for RandomForestClassifiers and ExtraTreesClassifiers.\n",
      "  warn(\n"
     ]
    },
    {
     "name": "stdout",
     "output_type": "stream",
     "text": [
      "[CV] END max_depth=3, max_features=auto, min_samples_leaf=19, min_samples_split=8, n_estimators=30; total time=   0.3s\n"
     ]
    },
    {
     "name": "stderr",
     "output_type": "stream",
     "text": [
      "/opt/anaconda3/lib/python3.9/site-packages/sklearn/ensemble/_forest.py:424: FutureWarning: `max_features='auto'` has been deprecated in 1.1 and will be removed in 1.3. To keep the past behaviour, explicitly set `max_features='sqrt'` or remove this parameter as it is also the default value for RandomForestClassifiers and ExtraTreesClassifiers.\n",
      "  warn(\n"
     ]
    },
    {
     "name": "stdout",
     "output_type": "stream",
     "text": [
      "[CV] END max_depth=3, max_features=auto, min_samples_leaf=19, min_samples_split=8, n_estimators=30; total time=   0.3s\n"
     ]
    },
    {
     "name": "stderr",
     "output_type": "stream",
     "text": [
      "/opt/anaconda3/lib/python3.9/site-packages/sklearn/ensemble/_forest.py:424: FutureWarning: `max_features='auto'` has been deprecated in 1.1 and will be removed in 1.3. To keep the past behaviour, explicitly set `max_features='sqrt'` or remove this parameter as it is also the default value for RandomForestClassifiers and ExtraTreesClassifiers.\n",
      "  warn(\n"
     ]
    },
    {
     "name": "stdout",
     "output_type": "stream",
     "text": [
      "[CV] END max_depth=3, max_features=auto, min_samples_leaf=19, min_samples_split=8, n_estimators=30; total time=   0.3s\n"
     ]
    },
    {
     "name": "stderr",
     "output_type": "stream",
     "text": [
      "/opt/anaconda3/lib/python3.9/site-packages/sklearn/ensemble/_forest.py:424: FutureWarning: `max_features='auto'` has been deprecated in 1.1 and will be removed in 1.3. To keep the past behaviour, explicitly set `max_features='sqrt'` or remove this parameter as it is also the default value for RandomForestClassifiers and ExtraTreesClassifiers.\n",
      "  warn(\n"
     ]
    },
    {
     "name": "stdout",
     "output_type": "stream",
     "text": [
      "[CV] END max_depth=3, max_features=auto, min_samples_leaf=19, min_samples_split=8, n_estimators=30; total time=   0.3s\n"
     ]
    },
    {
     "name": "stderr",
     "output_type": "stream",
     "text": [
      "/opt/anaconda3/lib/python3.9/site-packages/sklearn/ensemble/_forest.py:424: FutureWarning: `max_features='auto'` has been deprecated in 1.1 and will be removed in 1.3. To keep the past behaviour, explicitly set `max_features='sqrt'` or remove this parameter as it is also the default value for RandomForestClassifiers and ExtraTreesClassifiers.\n",
      "  warn(\n"
     ]
    },
    {
     "name": "stdout",
     "output_type": "stream",
     "text": [
      "[CV] END max_depth=3, max_features=auto, min_samples_leaf=19, min_samples_split=8, n_estimators=30; total time=   0.3s\n",
      "[CV] END max_depth=9, max_features=log2, min_samples_leaf=18, min_samples_split=5, n_estimators=98; total time=   0.5s\n",
      "[CV] END max_depth=9, max_features=log2, min_samples_leaf=18, min_samples_split=5, n_estimators=98; total time=   0.5s\n",
      "[CV] END max_depth=9, max_features=log2, min_samples_leaf=18, min_samples_split=5, n_estimators=98; total time=   0.5s\n",
      "[CV] END max_depth=9, max_features=log2, min_samples_leaf=18, min_samples_split=5, n_estimators=98; total time=   0.5s\n",
      "[CV] END max_depth=9, max_features=log2, min_samples_leaf=18, min_samples_split=5, n_estimators=98; total time=   0.5s\n",
      "[CV] END max_depth=14, max_features=sqrt, min_samples_leaf=9, min_samples_split=3, n_estimators=93; total time=   1.7s\n",
      "[CV] END max_depth=14, max_features=sqrt, min_samples_leaf=9, min_samples_split=3, n_estimators=93; total time=   1.7s\n",
      "[CV] END max_depth=14, max_features=sqrt, min_samples_leaf=9, min_samples_split=3, n_estimators=93; total time=   1.7s\n",
      "[CV] END max_depth=14, max_features=sqrt, min_samples_leaf=9, min_samples_split=3, n_estimators=93; total time=   1.7s\n",
      "[CV] END max_depth=14, max_features=sqrt, min_samples_leaf=9, min_samples_split=3, n_estimators=93; total time=   1.7s\n",
      "[CV] END max_depth=15, max_features=log2, min_samples_leaf=12, min_samples_split=9, n_estimators=184; total time=   1.1s\n",
      "[CV] END max_depth=15, max_features=log2, min_samples_leaf=12, min_samples_split=9, n_estimators=184; total time=   1.0s\n",
      "[CV] END max_depth=15, max_features=log2, min_samples_leaf=12, min_samples_split=9, n_estimators=184; total time=   1.0s\n",
      "[CV] END max_depth=15, max_features=log2, min_samples_leaf=12, min_samples_split=9, n_estimators=184; total time=   1.0s\n",
      "[CV] END max_depth=15, max_features=log2, min_samples_leaf=12, min_samples_split=9, n_estimators=184; total time=   1.0s\n",
      "[CV] END max_depth=3, max_features=sqrt, min_samples_leaf=17, min_samples_split=5, n_estimators=59; total time=   0.5s\n",
      "[CV] END max_depth=3, max_features=sqrt, min_samples_leaf=17, min_samples_split=5, n_estimators=59; total time=   0.5s\n",
      "[CV] END max_depth=3, max_features=sqrt, min_samples_leaf=17, min_samples_split=5, n_estimators=59; total time=   0.5s\n",
      "[CV] END max_depth=3, max_features=sqrt, min_samples_leaf=17, min_samples_split=5, n_estimators=59; total time=   0.5s\n",
      "[CV] END max_depth=3, max_features=sqrt, min_samples_leaf=17, min_samples_split=5, n_estimators=59; total time=   0.5s\n",
      "[CV] END max_depth=8, max_features=sqrt, min_samples_leaf=6, min_samples_split=11, n_estimators=13; total time=   0.3s\n",
      "[CV] END max_depth=8, max_features=sqrt, min_samples_leaf=6, min_samples_split=11, n_estimators=13; total time=   0.2s\n",
      "[CV] END max_depth=8, max_features=sqrt, min_samples_leaf=6, min_samples_split=11, n_estimators=13; total time=   0.2s\n",
      "[CV] END max_depth=8, max_features=sqrt, min_samples_leaf=6, min_samples_split=11, n_estimators=13; total time=   0.2s\n",
      "[CV] END max_depth=8, max_features=sqrt, min_samples_leaf=6, min_samples_split=11, n_estimators=13; total time=   0.2s\n",
      "[CV] END max_depth=18, max_features=sqrt, min_samples_leaf=12, min_samples_split=3, n_estimators=199; total time=   3.4s\n",
      "[CV] END max_depth=18, max_features=sqrt, min_samples_leaf=12, min_samples_split=3, n_estimators=199; total time=   3.3s\n",
      "[CV] END max_depth=18, max_features=sqrt, min_samples_leaf=12, min_samples_split=3, n_estimators=199; total time=   3.4s\n",
      "[CV] END max_depth=18, max_features=sqrt, min_samples_leaf=12, min_samples_split=3, n_estimators=199; total time=   3.3s\n",
      "[CV] END max_depth=18, max_features=sqrt, min_samples_leaf=12, min_samples_split=3, n_estimators=199; total time=   3.3s\n",
      "[CV] END max_depth=4, max_features=sqrt, min_samples_leaf=16, min_samples_split=16, n_estimators=199; total time=   2.1s\n",
      "[CV] END max_depth=4, max_features=sqrt, min_samples_leaf=16, min_samples_split=16, n_estimators=199; total time=   2.1s\n",
      "[CV] END max_depth=4, max_features=sqrt, min_samples_leaf=16, min_samples_split=16, n_estimators=199; total time=   2.2s\n",
      "[CV] END max_depth=4, max_features=sqrt, min_samples_leaf=16, min_samples_split=16, n_estimators=199; total time=   2.2s\n",
      "[CV] END max_depth=4, max_features=sqrt, min_samples_leaf=16, min_samples_split=16, n_estimators=199; total time=   2.1s\n"
     ]
    },
    {
     "name": "stderr",
     "output_type": "stream",
     "text": [
      "/opt/anaconda3/lib/python3.9/site-packages/sklearn/ensemble/_forest.py:424: FutureWarning: `max_features='auto'` has been deprecated in 1.1 and will be removed in 1.3. To keep the past behaviour, explicitly set `max_features='sqrt'` or remove this parameter as it is also the default value for RandomForestClassifiers and ExtraTreesClassifiers.\n",
      "  warn(\n"
     ]
    },
    {
     "name": "stdout",
     "output_type": "stream",
     "text": [
      "[CV] END max_depth=8, max_features=auto, min_samples_leaf=16, min_samples_split=14, n_estimators=91; total time=   1.4s\n"
     ]
    },
    {
     "name": "stderr",
     "output_type": "stream",
     "text": [
      "/opt/anaconda3/lib/python3.9/site-packages/sklearn/ensemble/_forest.py:424: FutureWarning: `max_features='auto'` has been deprecated in 1.1 and will be removed in 1.3. To keep the past behaviour, explicitly set `max_features='sqrt'` or remove this parameter as it is also the default value for RandomForestClassifiers and ExtraTreesClassifiers.\n",
      "  warn(\n"
     ]
    },
    {
     "name": "stdout",
     "output_type": "stream",
     "text": [
      "[CV] END max_depth=8, max_features=auto, min_samples_leaf=16, min_samples_split=14, n_estimators=91; total time=   1.4s\n"
     ]
    },
    {
     "name": "stderr",
     "output_type": "stream",
     "text": [
      "/opt/anaconda3/lib/python3.9/site-packages/sklearn/ensemble/_forest.py:424: FutureWarning: `max_features='auto'` has been deprecated in 1.1 and will be removed in 1.3. To keep the past behaviour, explicitly set `max_features='sqrt'` or remove this parameter as it is also the default value for RandomForestClassifiers and ExtraTreesClassifiers.\n",
      "  warn(\n"
     ]
    },
    {
     "name": "stdout",
     "output_type": "stream",
     "text": [
      "[CV] END max_depth=8, max_features=auto, min_samples_leaf=16, min_samples_split=14, n_estimators=91; total time=   1.4s\n"
     ]
    },
    {
     "name": "stderr",
     "output_type": "stream",
     "text": [
      "/opt/anaconda3/lib/python3.9/site-packages/sklearn/ensemble/_forest.py:424: FutureWarning: `max_features='auto'` has been deprecated in 1.1 and will be removed in 1.3. To keep the past behaviour, explicitly set `max_features='sqrt'` or remove this parameter as it is also the default value for RandomForestClassifiers and ExtraTreesClassifiers.\n",
      "  warn(\n"
     ]
    },
    {
     "name": "stdout",
     "output_type": "stream",
     "text": [
      "[CV] END max_depth=8, max_features=auto, min_samples_leaf=16, min_samples_split=14, n_estimators=91; total time=   1.4s\n"
     ]
    },
    {
     "name": "stderr",
     "output_type": "stream",
     "text": [
      "/opt/anaconda3/lib/python3.9/site-packages/sklearn/ensemble/_forest.py:424: FutureWarning: `max_features='auto'` has been deprecated in 1.1 and will be removed in 1.3. To keep the past behaviour, explicitly set `max_features='sqrt'` or remove this parameter as it is also the default value for RandomForestClassifiers and ExtraTreesClassifiers.\n",
      "  warn(\n"
     ]
    },
    {
     "name": "stdout",
     "output_type": "stream",
     "text": [
      "[CV] END max_depth=8, max_features=auto, min_samples_leaf=16, min_samples_split=14, n_estimators=91; total time=   1.4s\n"
     ]
    },
    {
     "name": "stderr",
     "output_type": "stream",
     "text": [
      "/opt/anaconda3/lib/python3.9/site-packages/sklearn/ensemble/_forest.py:424: FutureWarning: `max_features='auto'` has been deprecated in 1.1 and will be removed in 1.3. To keep the past behaviour, explicitly set `max_features='sqrt'` or remove this parameter as it is also the default value for RandomForestClassifiers and ExtraTreesClassifiers.\n",
      "  warn(\n"
     ]
    },
    {
     "name": "stdout",
     "output_type": "stream",
     "text": [
      "[CV] END max_depth=15, max_features=auto, min_samples_leaf=13, min_samples_split=10, n_estimators=166; total time=   2.8s\n"
     ]
    },
    {
     "name": "stderr",
     "output_type": "stream",
     "text": [
      "/opt/anaconda3/lib/python3.9/site-packages/sklearn/ensemble/_forest.py:424: FutureWarning: `max_features='auto'` has been deprecated in 1.1 and will be removed in 1.3. To keep the past behaviour, explicitly set `max_features='sqrt'` or remove this parameter as it is also the default value for RandomForestClassifiers and ExtraTreesClassifiers.\n",
      "  warn(\n"
     ]
    },
    {
     "name": "stdout",
     "output_type": "stream",
     "text": [
      "[CV] END max_depth=15, max_features=auto, min_samples_leaf=13, min_samples_split=10, n_estimators=166; total time=   2.8s\n"
     ]
    },
    {
     "name": "stderr",
     "output_type": "stream",
     "text": [
      "/opt/anaconda3/lib/python3.9/site-packages/sklearn/ensemble/_forest.py:424: FutureWarning: `max_features='auto'` has been deprecated in 1.1 and will be removed in 1.3. To keep the past behaviour, explicitly set `max_features='sqrt'` or remove this parameter as it is also the default value for RandomForestClassifiers and ExtraTreesClassifiers.\n",
      "  warn(\n"
     ]
    },
    {
     "name": "stdout",
     "output_type": "stream",
     "text": [
      "[CV] END max_depth=15, max_features=auto, min_samples_leaf=13, min_samples_split=10, n_estimators=166; total time=   2.8s\n"
     ]
    },
    {
     "name": "stderr",
     "output_type": "stream",
     "text": [
      "/opt/anaconda3/lib/python3.9/site-packages/sklearn/ensemble/_forest.py:424: FutureWarning: `max_features='auto'` has been deprecated in 1.1 and will be removed in 1.3. To keep the past behaviour, explicitly set `max_features='sqrt'` or remove this parameter as it is also the default value for RandomForestClassifiers and ExtraTreesClassifiers.\n",
      "  warn(\n"
     ]
    },
    {
     "name": "stdout",
     "output_type": "stream",
     "text": [
      "[CV] END max_depth=15, max_features=auto, min_samples_leaf=13, min_samples_split=10, n_estimators=166; total time=   2.8s\n"
     ]
    },
    {
     "name": "stderr",
     "output_type": "stream",
     "text": [
      "/opt/anaconda3/lib/python3.9/site-packages/sklearn/ensemble/_forest.py:424: FutureWarning: `max_features='auto'` has been deprecated in 1.1 and will be removed in 1.3. To keep the past behaviour, explicitly set `max_features='sqrt'` or remove this parameter as it is also the default value for RandomForestClassifiers and ExtraTreesClassifiers.\n",
      "  warn(\n"
     ]
    },
    {
     "name": "stdout",
     "output_type": "stream",
     "text": [
      "[CV] END max_depth=15, max_features=auto, min_samples_leaf=13, min_samples_split=10, n_estimators=166; total time=   2.7s\n"
     ]
    },
    {
     "name": "stderr",
     "output_type": "stream",
     "text": [
      "/opt/anaconda3/lib/python3.9/site-packages/sklearn/ensemble/_forest.py:424: FutureWarning: `max_features='auto'` has been deprecated in 1.1 and will be removed in 1.3. To keep the past behaviour, explicitly set `max_features='sqrt'` or remove this parameter as it is also the default value for RandomForestClassifiers and ExtraTreesClassifiers.\n",
      "  warn(\n"
     ]
    },
    {
     "name": "stdout",
     "output_type": "stream",
     "text": [
      "[CV] END max_depth=15, max_features=auto, min_samples_leaf=1, min_samples_split=8, n_estimators=18; total time=   0.5s\n"
     ]
    },
    {
     "name": "stderr",
     "output_type": "stream",
     "text": [
      "/opt/anaconda3/lib/python3.9/site-packages/sklearn/ensemble/_forest.py:424: FutureWarning: `max_features='auto'` has been deprecated in 1.1 and will be removed in 1.3. To keep the past behaviour, explicitly set `max_features='sqrt'` or remove this parameter as it is also the default value for RandomForestClassifiers and ExtraTreesClassifiers.\n",
      "  warn(\n"
     ]
    },
    {
     "name": "stdout",
     "output_type": "stream",
     "text": [
      "[CV] END max_depth=15, max_features=auto, min_samples_leaf=1, min_samples_split=8, n_estimators=18; total time=   0.5s\n"
     ]
    },
    {
     "name": "stderr",
     "output_type": "stream",
     "text": [
      "/opt/anaconda3/lib/python3.9/site-packages/sklearn/ensemble/_forest.py:424: FutureWarning: `max_features='auto'` has been deprecated in 1.1 and will be removed in 1.3. To keep the past behaviour, explicitly set `max_features='sqrt'` or remove this parameter as it is also the default value for RandomForestClassifiers and ExtraTreesClassifiers.\n",
      "  warn(\n"
     ]
    },
    {
     "name": "stdout",
     "output_type": "stream",
     "text": [
      "[CV] END max_depth=15, max_features=auto, min_samples_leaf=1, min_samples_split=8, n_estimators=18; total time=   0.5s\n"
     ]
    },
    {
     "name": "stderr",
     "output_type": "stream",
     "text": [
      "/opt/anaconda3/lib/python3.9/site-packages/sklearn/ensemble/_forest.py:424: FutureWarning: `max_features='auto'` has been deprecated in 1.1 and will be removed in 1.3. To keep the past behaviour, explicitly set `max_features='sqrt'` or remove this parameter as it is also the default value for RandomForestClassifiers and ExtraTreesClassifiers.\n",
      "  warn(\n"
     ]
    },
    {
     "name": "stdout",
     "output_type": "stream",
     "text": [
      "[CV] END max_depth=15, max_features=auto, min_samples_leaf=1, min_samples_split=8, n_estimators=18; total time=   0.5s\n"
     ]
    },
    {
     "name": "stderr",
     "output_type": "stream",
     "text": [
      "/opt/anaconda3/lib/python3.9/site-packages/sklearn/ensemble/_forest.py:424: FutureWarning: `max_features='auto'` has been deprecated in 1.1 and will be removed in 1.3. To keep the past behaviour, explicitly set `max_features='sqrt'` or remove this parameter as it is also the default value for RandomForestClassifiers and ExtraTreesClassifiers.\n",
      "  warn(\n"
     ]
    },
    {
     "name": "stdout",
     "output_type": "stream",
     "text": [
      "[CV] END max_depth=15, max_features=auto, min_samples_leaf=1, min_samples_split=8, n_estimators=18; total time=   0.5s\n",
      "[CV] END max_depth=1, max_features=log2, min_samples_leaf=11, min_samples_split=18, n_estimators=145; total time=   0.3s\n",
      "[CV] END max_depth=1, max_features=log2, min_samples_leaf=11, min_samples_split=18, n_estimators=145; total time=   0.3s\n",
      "[CV] END max_depth=1, max_features=log2, min_samples_leaf=11, min_samples_split=18, n_estimators=145; total time=   0.3s\n",
      "[CV] END max_depth=1, max_features=log2, min_samples_leaf=11, min_samples_split=18, n_estimators=145; total time=   0.3s\n",
      "[CV] END max_depth=1, max_features=log2, min_samples_leaf=11, min_samples_split=18, n_estimators=145; total time=   0.3s\n",
      "[CV] END max_depth=3, max_features=log2, min_samples_leaf=1, min_samples_split=6, n_estimators=50; total time=   0.2s\n",
      "[CV] END max_depth=3, max_features=log2, min_samples_leaf=1, min_samples_split=6, n_estimators=50; total time=   0.2s\n",
      "[CV] END max_depth=3, max_features=log2, min_samples_leaf=1, min_samples_split=6, n_estimators=50; total time=   0.2s\n",
      "[CV] END max_depth=3, max_features=log2, min_samples_leaf=1, min_samples_split=6, n_estimators=50; total time=   0.2s\n",
      "[CV] END max_depth=3, max_features=log2, min_samples_leaf=1, min_samples_split=6, n_estimators=50; total time=   0.2s\n"
     ]
    },
    {
     "name": "stderr",
     "output_type": "stream",
     "text": [
      "/opt/anaconda3/lib/python3.9/site-packages/sklearn/ensemble/_forest.py:424: FutureWarning: `max_features='auto'` has been deprecated in 1.1 and will be removed in 1.3. To keep the past behaviour, explicitly set `max_features='sqrt'` or remove this parameter as it is also the default value for RandomForestClassifiers and ExtraTreesClassifiers.\n",
      "  warn(\n"
     ]
    },
    {
     "name": "stdout",
     "output_type": "stream",
     "text": [
      "[CV] END max_depth=7, max_features=auto, min_samples_leaf=8, min_samples_split=13, n_estimators=171; total time=   2.9s\n"
     ]
    },
    {
     "name": "stderr",
     "output_type": "stream",
     "text": [
      "/opt/anaconda3/lib/python3.9/site-packages/sklearn/ensemble/_forest.py:424: FutureWarning: `max_features='auto'` has been deprecated in 1.1 and will be removed in 1.3. To keep the past behaviour, explicitly set `max_features='sqrt'` or remove this parameter as it is also the default value for RandomForestClassifiers and ExtraTreesClassifiers.\n",
      "  warn(\n"
     ]
    },
    {
     "name": "stdout",
     "output_type": "stream",
     "text": [
      "[CV] END max_depth=7, max_features=auto, min_samples_leaf=8, min_samples_split=13, n_estimators=171; total time=   2.8s\n"
     ]
    },
    {
     "name": "stderr",
     "output_type": "stream",
     "text": [
      "/opt/anaconda3/lib/python3.9/site-packages/sklearn/ensemble/_forest.py:424: FutureWarning: `max_features='auto'` has been deprecated in 1.1 and will be removed in 1.3. To keep the past behaviour, explicitly set `max_features='sqrt'` or remove this parameter as it is also the default value for RandomForestClassifiers and ExtraTreesClassifiers.\n",
      "  warn(\n"
     ]
    },
    {
     "name": "stdout",
     "output_type": "stream",
     "text": [
      "[CV] END max_depth=7, max_features=auto, min_samples_leaf=8, min_samples_split=13, n_estimators=171; total time=   2.8s\n"
     ]
    },
    {
     "name": "stderr",
     "output_type": "stream",
     "text": [
      "/opt/anaconda3/lib/python3.9/site-packages/sklearn/ensemble/_forest.py:424: FutureWarning: `max_features='auto'` has been deprecated in 1.1 and will be removed in 1.3. To keep the past behaviour, explicitly set `max_features='sqrt'` or remove this parameter as it is also the default value for RandomForestClassifiers and ExtraTreesClassifiers.\n",
      "  warn(\n"
     ]
    },
    {
     "name": "stdout",
     "output_type": "stream",
     "text": [
      "[CV] END max_depth=7, max_features=auto, min_samples_leaf=8, min_samples_split=13, n_estimators=171; total time=   2.8s\n"
     ]
    },
    {
     "name": "stderr",
     "output_type": "stream",
     "text": [
      "/opt/anaconda3/lib/python3.9/site-packages/sklearn/ensemble/_forest.py:424: FutureWarning: `max_features='auto'` has been deprecated in 1.1 and will be removed in 1.3. To keep the past behaviour, explicitly set `max_features='sqrt'` or remove this parameter as it is also the default value for RandomForestClassifiers and ExtraTreesClassifiers.\n",
      "  warn(\n"
     ]
    },
    {
     "name": "stdout",
     "output_type": "stream",
     "text": [
      "[CV] END max_depth=7, max_features=auto, min_samples_leaf=8, min_samples_split=13, n_estimators=171; total time=   2.8s\n",
      "[CV] END max_depth=1, max_features=log2, min_samples_leaf=5, min_samples_split=4, n_estimators=181; total time=   0.3s\n",
      "[CV] END max_depth=1, max_features=log2, min_samples_leaf=5, min_samples_split=4, n_estimators=181; total time=   0.3s\n",
      "[CV] END max_depth=1, max_features=log2, min_samples_leaf=5, min_samples_split=4, n_estimators=181; total time=   0.3s\n",
      "[CV] END max_depth=1, max_features=log2, min_samples_leaf=5, min_samples_split=4, n_estimators=181; total time=   0.3s\n",
      "[CV] END max_depth=1, max_features=log2, min_samples_leaf=5, min_samples_split=4, n_estimators=181; total time=   0.3s\n",
      "[CV] END max_depth=8, max_features=sqrt, min_samples_leaf=3, min_samples_split=2, n_estimators=110; total time=   2.1s\n",
      "[CV] END max_depth=8, max_features=sqrt, min_samples_leaf=3, min_samples_split=2, n_estimators=110; total time=   2.1s\n",
      "[CV] END max_depth=8, max_features=sqrt, min_samples_leaf=3, min_samples_split=2, n_estimators=110; total time=   2.1s\n",
      "[CV] END max_depth=8, max_features=sqrt, min_samples_leaf=3, min_samples_split=2, n_estimators=110; total time=   2.1s\n",
      "[CV] END max_depth=8, max_features=sqrt, min_samples_leaf=3, min_samples_split=2, n_estimators=110; total time=   2.1s\n",
      "[CV] END max_depth=15, max_features=sqrt, min_samples_leaf=3, min_samples_split=2, n_estimators=14; total time=   0.3s\n",
      "[CV] END max_depth=15, max_features=sqrt, min_samples_leaf=3, min_samples_split=2, n_estimators=14; total time=   0.3s\n",
      "[CV] END max_depth=15, max_features=sqrt, min_samples_leaf=3, min_samples_split=2, n_estimators=14; total time=   0.3s\n",
      "[CV] END max_depth=15, max_features=sqrt, min_samples_leaf=3, min_samples_split=2, n_estimators=14; total time=   0.3s\n",
      "[CV] END max_depth=15, max_features=sqrt, min_samples_leaf=3, min_samples_split=2, n_estimators=14; total time=   0.3s\n",
      "[CV] END max_depth=14, max_features=log2, min_samples_leaf=9, min_samples_split=16, n_estimators=24; total time=   0.2s\n",
      "[CV] END max_depth=14, max_features=log2, min_samples_leaf=9, min_samples_split=16, n_estimators=24; total time=   0.2s\n",
      "[CV] END max_depth=14, max_features=log2, min_samples_leaf=9, min_samples_split=16, n_estimators=24; total time=   0.2s\n",
      "[CV] END max_depth=14, max_features=log2, min_samples_leaf=9, min_samples_split=16, n_estimators=24; total time=   0.2s\n",
      "[CV] END max_depth=14, max_features=log2, min_samples_leaf=9, min_samples_split=16, n_estimators=24; total time=   0.2s\n"
     ]
    },
    {
     "name": "stderr",
     "output_type": "stream",
     "text": [
      "/opt/anaconda3/lib/python3.9/site-packages/sklearn/ensemble/_forest.py:424: FutureWarning: `max_features='auto'` has been deprecated in 1.1 and will be removed in 1.3. To keep the past behaviour, explicitly set `max_features='sqrt'` or remove this parameter as it is also the default value for RandomForestClassifiers and ExtraTreesClassifiers.\n",
      "  warn(\n"
     ]
    },
    {
     "name": "stdout",
     "output_type": "stream",
     "text": [
      "[CV] END max_depth=10, max_features=auto, min_samples_leaf=19, min_samples_split=8, n_estimators=61; total time=   0.9s\n"
     ]
    },
    {
     "name": "stderr",
     "output_type": "stream",
     "text": [
      "/opt/anaconda3/lib/python3.9/site-packages/sklearn/ensemble/_forest.py:424: FutureWarning: `max_features='auto'` has been deprecated in 1.1 and will be removed in 1.3. To keep the past behaviour, explicitly set `max_features='sqrt'` or remove this parameter as it is also the default value for RandomForestClassifiers and ExtraTreesClassifiers.\n",
      "  warn(\n"
     ]
    },
    {
     "name": "stdout",
     "output_type": "stream",
     "text": [
      "[CV] END max_depth=10, max_features=auto, min_samples_leaf=19, min_samples_split=8, n_estimators=61; total time=   0.9s\n"
     ]
    },
    {
     "name": "stderr",
     "output_type": "stream",
     "text": [
      "/opt/anaconda3/lib/python3.9/site-packages/sklearn/ensemble/_forest.py:424: FutureWarning: `max_features='auto'` has been deprecated in 1.1 and will be removed in 1.3. To keep the past behaviour, explicitly set `max_features='sqrt'` or remove this parameter as it is also the default value for RandomForestClassifiers and ExtraTreesClassifiers.\n",
      "  warn(\n"
     ]
    },
    {
     "name": "stdout",
     "output_type": "stream",
     "text": [
      "[CV] END max_depth=10, max_features=auto, min_samples_leaf=19, min_samples_split=8, n_estimators=61; total time=   0.9s\n"
     ]
    },
    {
     "name": "stderr",
     "output_type": "stream",
     "text": [
      "/opt/anaconda3/lib/python3.9/site-packages/sklearn/ensemble/_forest.py:424: FutureWarning: `max_features='auto'` has been deprecated in 1.1 and will be removed in 1.3. To keep the past behaviour, explicitly set `max_features='sqrt'` or remove this parameter as it is also the default value for RandomForestClassifiers and ExtraTreesClassifiers.\n",
      "  warn(\n"
     ]
    },
    {
     "name": "stdout",
     "output_type": "stream",
     "text": [
      "[CV] END max_depth=10, max_features=auto, min_samples_leaf=19, min_samples_split=8, n_estimators=61; total time=   0.9s\n"
     ]
    },
    {
     "name": "stderr",
     "output_type": "stream",
     "text": [
      "/opt/anaconda3/lib/python3.9/site-packages/sklearn/ensemble/_forest.py:424: FutureWarning: `max_features='auto'` has been deprecated in 1.1 and will be removed in 1.3. To keep the past behaviour, explicitly set `max_features='sqrt'` or remove this parameter as it is also the default value for RandomForestClassifiers and ExtraTreesClassifiers.\n",
      "  warn(\n"
     ]
    },
    {
     "name": "stdout",
     "output_type": "stream",
     "text": [
      "[CV] END max_depth=10, max_features=auto, min_samples_leaf=19, min_samples_split=8, n_estimators=61; total time=   0.9s\n",
      "[CV] END max_depth=4, max_features=sqrt, min_samples_leaf=5, min_samples_split=8, n_estimators=152; total time=   1.7s\n",
      "[CV] END max_depth=4, max_features=sqrt, min_samples_leaf=5, min_samples_split=8, n_estimators=152; total time=   1.7s\n",
      "[CV] END max_depth=4, max_features=sqrt, min_samples_leaf=5, min_samples_split=8, n_estimators=152; total time=   1.7s\n",
      "[CV] END max_depth=4, max_features=sqrt, min_samples_leaf=5, min_samples_split=8, n_estimators=152; total time=   1.7s\n",
      "[CV] END max_depth=4, max_features=sqrt, min_samples_leaf=5, min_samples_split=8, n_estimators=152; total time=   1.7s\n"
     ]
    },
    {
     "name": "stderr",
     "output_type": "stream",
     "text": [
      "/opt/anaconda3/lib/python3.9/site-packages/sklearn/ensemble/_forest.py:424: FutureWarning: `max_features='auto'` has been deprecated in 1.1 and will be removed in 1.3. To keep the past behaviour, explicitly set `max_features='sqrt'` or remove this parameter as it is also the default value for RandomForestClassifiers and ExtraTreesClassifiers.\n",
      "  warn(\n"
     ]
    },
    {
     "name": "stdout",
     "output_type": "stream",
     "text": [
      "[CV] END max_depth=11, max_features=auto, min_samples_leaf=4, min_samples_split=14, n_estimators=169; total time=   3.5s\n"
     ]
    },
    {
     "name": "stderr",
     "output_type": "stream",
     "text": [
      "/opt/anaconda3/lib/python3.9/site-packages/sklearn/ensemble/_forest.py:424: FutureWarning: `max_features='auto'` has been deprecated in 1.1 and will be removed in 1.3. To keep the past behaviour, explicitly set `max_features='sqrt'` or remove this parameter as it is also the default value for RandomForestClassifiers and ExtraTreesClassifiers.\n",
      "  warn(\n"
     ]
    },
    {
     "name": "stdout",
     "output_type": "stream",
     "text": [
      "[CV] END max_depth=11, max_features=auto, min_samples_leaf=4, min_samples_split=14, n_estimators=169; total time=   3.5s\n"
     ]
    },
    {
     "name": "stderr",
     "output_type": "stream",
     "text": [
      "/opt/anaconda3/lib/python3.9/site-packages/sklearn/ensemble/_forest.py:424: FutureWarning: `max_features='auto'` has been deprecated in 1.1 and will be removed in 1.3. To keep the past behaviour, explicitly set `max_features='sqrt'` or remove this parameter as it is also the default value for RandomForestClassifiers and ExtraTreesClassifiers.\n",
      "  warn(\n"
     ]
    },
    {
     "name": "stdout",
     "output_type": "stream",
     "text": [
      "[CV] END max_depth=11, max_features=auto, min_samples_leaf=4, min_samples_split=14, n_estimators=169; total time=   3.5s\n"
     ]
    },
    {
     "name": "stderr",
     "output_type": "stream",
     "text": [
      "/opt/anaconda3/lib/python3.9/site-packages/sklearn/ensemble/_forest.py:424: FutureWarning: `max_features='auto'` has been deprecated in 1.1 and will be removed in 1.3. To keep the past behaviour, explicitly set `max_features='sqrt'` or remove this parameter as it is also the default value for RandomForestClassifiers and ExtraTreesClassifiers.\n",
      "  warn(\n"
     ]
    },
    {
     "name": "stdout",
     "output_type": "stream",
     "text": [
      "[CV] END max_depth=11, max_features=auto, min_samples_leaf=4, min_samples_split=14, n_estimators=169; total time=   3.5s\n"
     ]
    },
    {
     "name": "stderr",
     "output_type": "stream",
     "text": [
      "/opt/anaconda3/lib/python3.9/site-packages/sklearn/ensemble/_forest.py:424: FutureWarning: `max_features='auto'` has been deprecated in 1.1 and will be removed in 1.3. To keep the past behaviour, explicitly set `max_features='sqrt'` or remove this parameter as it is also the default value for RandomForestClassifiers and ExtraTreesClassifiers.\n",
      "  warn(\n"
     ]
    },
    {
     "name": "stdout",
     "output_type": "stream",
     "text": [
      "[CV] END max_depth=11, max_features=auto, min_samples_leaf=4, min_samples_split=14, n_estimators=169; total time=   3.6s\n",
      "[CV] END max_depth=7, max_features=log2, min_samples_leaf=19, min_samples_split=3, n_estimators=179; total time=   0.9s\n",
      "[CV] END max_depth=7, max_features=log2, min_samples_leaf=19, min_samples_split=3, n_estimators=179; total time=   0.9s\n",
      "[CV] END max_depth=7, max_features=log2, min_samples_leaf=19, min_samples_split=3, n_estimators=179; total time=   0.9s\n",
      "[CV] END max_depth=7, max_features=log2, min_samples_leaf=19, min_samples_split=3, n_estimators=179; total time=   0.9s\n",
      "[CV] END max_depth=7, max_features=log2, min_samples_leaf=19, min_samples_split=3, n_estimators=179; total time=   0.9s\n",
      "[CV] END max_depth=13, max_features=sqrt, min_samples_leaf=6, min_samples_split=13, n_estimators=53; total time=   1.1s\n",
      "[CV] END max_depth=13, max_features=sqrt, min_samples_leaf=6, min_samples_split=13, n_estimators=53; total time=   1.1s\n",
      "[CV] END max_depth=13, max_features=sqrt, min_samples_leaf=6, min_samples_split=13, n_estimators=53; total time=   1.1s\n",
      "[CV] END max_depth=13, max_features=sqrt, min_samples_leaf=6, min_samples_split=13, n_estimators=53; total time=   1.1s\n",
      "[CV] END max_depth=13, max_features=sqrt, min_samples_leaf=6, min_samples_split=13, n_estimators=53; total time=   1.0s\n",
      "[CV] END max_depth=11, max_features=sqrt, min_samples_leaf=7, min_samples_split=2, n_estimators=138; total time=   2.7s\n",
      "[CV] END max_depth=11, max_features=sqrt, min_samples_leaf=7, min_samples_split=2, n_estimators=138; total time=   2.6s\n",
      "[CV] END max_depth=11, max_features=sqrt, min_samples_leaf=7, min_samples_split=2, n_estimators=138; total time=   2.6s\n",
      "[CV] END max_depth=11, max_features=sqrt, min_samples_leaf=7, min_samples_split=2, n_estimators=138; total time=   2.6s\n",
      "[CV] END max_depth=11, max_features=sqrt, min_samples_leaf=7, min_samples_split=2, n_estimators=138; total time=   2.6s\n"
     ]
    },
    {
     "name": "stderr",
     "output_type": "stream",
     "text": [
      "/opt/anaconda3/lib/python3.9/site-packages/sklearn/ensemble/_forest.py:424: FutureWarning: `max_features='auto'` has been deprecated in 1.1 and will be removed in 1.3. To keep the past behaviour, explicitly set `max_features='sqrt'` or remove this parameter as it is also the default value for RandomForestClassifiers and ExtraTreesClassifiers.\n",
      "  warn(\n"
     ]
    },
    {
     "name": "stdout",
     "output_type": "stream",
     "text": [
      "[CV] END max_depth=13, max_features=auto, min_samples_leaf=3, min_samples_split=8, n_estimators=164; total time=   3.8s\n"
     ]
    },
    {
     "name": "stderr",
     "output_type": "stream",
     "text": [
      "/opt/anaconda3/lib/python3.9/site-packages/sklearn/ensemble/_forest.py:424: FutureWarning: `max_features='auto'` has been deprecated in 1.1 and will be removed in 1.3. To keep the past behaviour, explicitly set `max_features='sqrt'` or remove this parameter as it is also the default value for RandomForestClassifiers and ExtraTreesClassifiers.\n",
      "  warn(\n"
     ]
    },
    {
     "name": "stdout",
     "output_type": "stream",
     "text": [
      "[CV] END max_depth=13, max_features=auto, min_samples_leaf=3, min_samples_split=8, n_estimators=164; total time=   3.7s\n"
     ]
    },
    {
     "name": "stderr",
     "output_type": "stream",
     "text": [
      "/opt/anaconda3/lib/python3.9/site-packages/sklearn/ensemble/_forest.py:424: FutureWarning: `max_features='auto'` has been deprecated in 1.1 and will be removed in 1.3. To keep the past behaviour, explicitly set `max_features='sqrt'` or remove this parameter as it is also the default value for RandomForestClassifiers and ExtraTreesClassifiers.\n",
      "  warn(\n"
     ]
    },
    {
     "name": "stdout",
     "output_type": "stream",
     "text": [
      "[CV] END max_depth=13, max_features=auto, min_samples_leaf=3, min_samples_split=8, n_estimators=164; total time=   3.7s\n"
     ]
    },
    {
     "name": "stderr",
     "output_type": "stream",
     "text": [
      "/opt/anaconda3/lib/python3.9/site-packages/sklearn/ensemble/_forest.py:424: FutureWarning: `max_features='auto'` has been deprecated in 1.1 and will be removed in 1.3. To keep the past behaviour, explicitly set `max_features='sqrt'` or remove this parameter as it is also the default value for RandomForestClassifiers and ExtraTreesClassifiers.\n",
      "  warn(\n"
     ]
    },
    {
     "name": "stdout",
     "output_type": "stream",
     "text": [
      "[CV] END max_depth=13, max_features=auto, min_samples_leaf=3, min_samples_split=8, n_estimators=164; total time=   3.7s\n"
     ]
    },
    {
     "name": "stderr",
     "output_type": "stream",
     "text": [
      "/opt/anaconda3/lib/python3.9/site-packages/sklearn/ensemble/_forest.py:424: FutureWarning: `max_features='auto'` has been deprecated in 1.1 and will be removed in 1.3. To keep the past behaviour, explicitly set `max_features='sqrt'` or remove this parameter as it is also the default value for RandomForestClassifiers and ExtraTreesClassifiers.\n",
      "  warn(\n"
     ]
    },
    {
     "name": "stdout",
     "output_type": "stream",
     "text": [
      "[CV] END max_depth=13, max_features=auto, min_samples_leaf=3, min_samples_split=8, n_estimators=164; total time=   3.7s\n",
      "[CV] END max_depth=9, max_features=sqrt, min_samples_leaf=5, min_samples_split=2, n_estimators=60; total time=   1.2s\n",
      "[CV] END max_depth=9, max_features=sqrt, min_samples_leaf=5, min_samples_split=2, n_estimators=60; total time=   1.1s\n",
      "[CV] END max_depth=9, max_features=sqrt, min_samples_leaf=5, min_samples_split=2, n_estimators=60; total time=   1.1s\n",
      "[CV] END max_depth=9, max_features=sqrt, min_samples_leaf=5, min_samples_split=2, n_estimators=60; total time=   1.2s\n",
      "[CV] END max_depth=9, max_features=sqrt, min_samples_leaf=5, min_samples_split=2, n_estimators=60; total time=   1.2s\n",
      "[CV] END max_depth=10, max_features=log2, min_samples_leaf=9, min_samples_split=18, n_estimators=71; total time=   0.4s\n",
      "[CV] END max_depth=10, max_features=log2, min_samples_leaf=9, min_samples_split=18, n_estimators=71; total time=   0.4s\n",
      "[CV] END max_depth=10, max_features=log2, min_samples_leaf=9, min_samples_split=18, n_estimators=71; total time=   0.4s\n",
      "[CV] END max_depth=10, max_features=log2, min_samples_leaf=9, min_samples_split=18, n_estimators=71; total time=   0.4s\n",
      "[CV] END max_depth=10, max_features=log2, min_samples_leaf=9, min_samples_split=18, n_estimators=71; total time=   0.4s\n",
      "[CV] END max_depth=17, max_features=sqrt, min_samples_leaf=12, min_samples_split=8, n_estimators=139; total time=   2.4s\n",
      "[CV] END max_depth=17, max_features=sqrt, min_samples_leaf=12, min_samples_split=8, n_estimators=139; total time=   2.4s\n",
      "[CV] END max_depth=17, max_features=sqrt, min_samples_leaf=12, min_samples_split=8, n_estimators=139; total time=   2.4s\n",
      "[CV] END max_depth=17, max_features=sqrt, min_samples_leaf=12, min_samples_split=8, n_estimators=139; total time=   2.3s\n",
      "[CV] END max_depth=17, max_features=sqrt, min_samples_leaf=12, min_samples_split=8, n_estimators=139; total time=   2.4s\n"
     ]
    },
    {
     "name": "stderr",
     "output_type": "stream",
     "text": [
      "/opt/anaconda3/lib/python3.9/site-packages/sklearn/ensemble/_forest.py:424: FutureWarning: `max_features='auto'` has been deprecated in 1.1 and will be removed in 1.3. To keep the past behaviour, explicitly set `max_features='sqrt'` or remove this parameter as it is also the default value for RandomForestClassifiers and ExtraTreesClassifiers.\n",
      "  warn(\n"
     ]
    },
    {
     "name": "stdout",
     "output_type": "stream",
     "text": [
      "[CV] END max_depth=3, max_features=auto, min_samples_leaf=5, min_samples_split=18, n_estimators=193; total time=   1.7s\n"
     ]
    },
    {
     "name": "stderr",
     "output_type": "stream",
     "text": [
      "/opt/anaconda3/lib/python3.9/site-packages/sklearn/ensemble/_forest.py:424: FutureWarning: `max_features='auto'` has been deprecated in 1.1 and will be removed in 1.3. To keep the past behaviour, explicitly set `max_features='sqrt'` or remove this parameter as it is also the default value for RandomForestClassifiers and ExtraTreesClassifiers.\n",
      "  warn(\n"
     ]
    },
    {
     "name": "stdout",
     "output_type": "stream",
     "text": [
      "[CV] END max_depth=3, max_features=auto, min_samples_leaf=5, min_samples_split=18, n_estimators=193; total time=   1.7s\n"
     ]
    },
    {
     "name": "stderr",
     "output_type": "stream",
     "text": [
      "/opt/anaconda3/lib/python3.9/site-packages/sklearn/ensemble/_forest.py:424: FutureWarning: `max_features='auto'` has been deprecated in 1.1 and will be removed in 1.3. To keep the past behaviour, explicitly set `max_features='sqrt'` or remove this parameter as it is also the default value for RandomForestClassifiers and ExtraTreesClassifiers.\n",
      "  warn(\n"
     ]
    },
    {
     "name": "stdout",
     "output_type": "stream",
     "text": [
      "[CV] END max_depth=3, max_features=auto, min_samples_leaf=5, min_samples_split=18, n_estimators=193; total time=   1.7s\n"
     ]
    },
    {
     "name": "stderr",
     "output_type": "stream",
     "text": [
      "/opt/anaconda3/lib/python3.9/site-packages/sklearn/ensemble/_forest.py:424: FutureWarning: `max_features='auto'` has been deprecated in 1.1 and will be removed in 1.3. To keep the past behaviour, explicitly set `max_features='sqrt'` or remove this parameter as it is also the default value for RandomForestClassifiers and ExtraTreesClassifiers.\n",
      "  warn(\n"
     ]
    },
    {
     "name": "stdout",
     "output_type": "stream",
     "text": [
      "[CV] END max_depth=3, max_features=auto, min_samples_leaf=5, min_samples_split=18, n_estimators=193; total time=   1.7s\n"
     ]
    },
    {
     "name": "stderr",
     "output_type": "stream",
     "text": [
      "/opt/anaconda3/lib/python3.9/site-packages/sklearn/ensemble/_forest.py:424: FutureWarning: `max_features='auto'` has been deprecated in 1.1 and will be removed in 1.3. To keep the past behaviour, explicitly set `max_features='sqrt'` or remove this parameter as it is also the default value for RandomForestClassifiers and ExtraTreesClassifiers.\n",
      "  warn(\n"
     ]
    },
    {
     "name": "stdout",
     "output_type": "stream",
     "text": [
      "[CV] END max_depth=3, max_features=auto, min_samples_leaf=5, min_samples_split=18, n_estimators=193; total time=   1.7s\n",
      "[CV] END max_depth=17, max_features=log2, min_samples_leaf=17, min_samples_split=3, n_estimators=139; total time=   0.8s\n",
      "[CV] END max_depth=17, max_features=log2, min_samples_leaf=17, min_samples_split=3, n_estimators=139; total time=   0.7s\n",
      "[CV] END max_depth=17, max_features=log2, min_samples_leaf=17, min_samples_split=3, n_estimators=139; total time=   0.7s\n",
      "[CV] END max_depth=17, max_features=log2, min_samples_leaf=17, min_samples_split=3, n_estimators=139; total time=   0.7s\n",
      "[CV] END max_depth=17, max_features=log2, min_samples_leaf=17, min_samples_split=3, n_estimators=139; total time=   0.7s\n"
     ]
    },
    {
     "name": "stderr",
     "output_type": "stream",
     "text": [
      "/opt/anaconda3/lib/python3.9/site-packages/sklearn/ensemble/_forest.py:424: FutureWarning: `max_features='auto'` has been deprecated in 1.1 and will be removed in 1.3. To keep the past behaviour, explicitly set `max_features='sqrt'` or remove this parameter as it is also the default value for RandomForestClassifiers and ExtraTreesClassifiers.\n",
      "  warn(\n"
     ]
    },
    {
     "name": "stdout",
     "output_type": "stream",
     "text": [
      "[CV] END max_depth=5, max_features=auto, min_samples_leaf=1, min_samples_split=3, n_estimators=62; total time=   0.9s\n"
     ]
    },
    {
     "name": "stderr",
     "output_type": "stream",
     "text": [
      "/opt/anaconda3/lib/python3.9/site-packages/sklearn/ensemble/_forest.py:424: FutureWarning: `max_features='auto'` has been deprecated in 1.1 and will be removed in 1.3. To keep the past behaviour, explicitly set `max_features='sqrt'` or remove this parameter as it is also the default value for RandomForestClassifiers and ExtraTreesClassifiers.\n",
      "  warn(\n"
     ]
    },
    {
     "name": "stdout",
     "output_type": "stream",
     "text": [
      "[CV] END max_depth=5, max_features=auto, min_samples_leaf=1, min_samples_split=3, n_estimators=62; total time=   0.9s\n"
     ]
    },
    {
     "name": "stderr",
     "output_type": "stream",
     "text": [
      "/opt/anaconda3/lib/python3.9/site-packages/sklearn/ensemble/_forest.py:424: FutureWarning: `max_features='auto'` has been deprecated in 1.1 and will be removed in 1.3. To keep the past behaviour, explicitly set `max_features='sqrt'` or remove this parameter as it is also the default value for RandomForestClassifiers and ExtraTreesClassifiers.\n",
      "  warn(\n"
     ]
    },
    {
     "name": "stdout",
     "output_type": "stream",
     "text": [
      "[CV] END max_depth=5, max_features=auto, min_samples_leaf=1, min_samples_split=3, n_estimators=62; total time=   0.9s\n"
     ]
    },
    {
     "name": "stderr",
     "output_type": "stream",
     "text": [
      "/opt/anaconda3/lib/python3.9/site-packages/sklearn/ensemble/_forest.py:424: FutureWarning: `max_features='auto'` has been deprecated in 1.1 and will be removed in 1.3. To keep the past behaviour, explicitly set `max_features='sqrt'` or remove this parameter as it is also the default value for RandomForestClassifiers and ExtraTreesClassifiers.\n",
      "  warn(\n"
     ]
    },
    {
     "name": "stdout",
     "output_type": "stream",
     "text": [
      "[CV] END max_depth=5, max_features=auto, min_samples_leaf=1, min_samples_split=3, n_estimators=62; total time=   0.9s\n"
     ]
    },
    {
     "name": "stderr",
     "output_type": "stream",
     "text": [
      "/opt/anaconda3/lib/python3.9/site-packages/sklearn/ensemble/_forest.py:424: FutureWarning: `max_features='auto'` has been deprecated in 1.1 and will be removed in 1.3. To keep the past behaviour, explicitly set `max_features='sqrt'` or remove this parameter as it is also the default value for RandomForestClassifiers and ExtraTreesClassifiers.\n",
      "  warn(\n"
     ]
    },
    {
     "name": "stdout",
     "output_type": "stream",
     "text": [
      "[CV] END max_depth=5, max_features=auto, min_samples_leaf=1, min_samples_split=3, n_estimators=62; total time=   0.9s\n",
      "[CV] END max_depth=12, max_features=sqrt, min_samples_leaf=6, min_samples_split=5, n_estimators=192; total time=   3.8s\n",
      "[CV] END max_depth=12, max_features=sqrt, min_samples_leaf=6, min_samples_split=5, n_estimators=192; total time=   3.8s\n",
      "[CV] END max_depth=12, max_features=sqrt, min_samples_leaf=6, min_samples_split=5, n_estimators=192; total time=   3.9s\n",
      "[CV] END max_depth=12, max_features=sqrt, min_samples_leaf=6, min_samples_split=5, n_estimators=192; total time=   3.8s\n",
      "[CV] END max_depth=12, max_features=sqrt, min_samples_leaf=6, min_samples_split=5, n_estimators=192; total time=   3.8s\n",
      "[CV] END max_depth=11, max_features=log2, min_samples_leaf=17, min_samples_split=7, n_estimators=33; total time=   0.2s\n",
      "[CV] END max_depth=11, max_features=log2, min_samples_leaf=17, min_samples_split=7, n_estimators=33; total time=   0.2s\n",
      "[CV] END max_depth=11, max_features=log2, min_samples_leaf=17, min_samples_split=7, n_estimators=33; total time=   0.2s\n",
      "[CV] END max_depth=11, max_features=log2, min_samples_leaf=17, min_samples_split=7, n_estimators=33; total time=   0.2s\n",
      "[CV] END max_depth=11, max_features=log2, min_samples_leaf=17, min_samples_split=7, n_estimators=33; total time=   0.2s\n",
      "[CV] END max_depth=5, max_features=sqrt, min_samples_leaf=6, min_samples_split=12, n_estimators=153; total time=   2.0s\n",
      "[CV] END max_depth=5, max_features=sqrt, min_samples_leaf=6, min_samples_split=12, n_estimators=153; total time=   2.1s\n",
      "[CV] END max_depth=5, max_features=sqrt, min_samples_leaf=6, min_samples_split=12, n_estimators=153; total time=   2.0s\n",
      "[CV] END max_depth=5, max_features=sqrt, min_samples_leaf=6, min_samples_split=12, n_estimators=153; total time=   2.0s\n",
      "[CV] END max_depth=5, max_features=sqrt, min_samples_leaf=6, min_samples_split=12, n_estimators=153; total time=   2.0s\n"
     ]
    },
    {
     "name": "stderr",
     "output_type": "stream",
     "text": [
      "/opt/anaconda3/lib/python3.9/site-packages/sklearn/ensemble/_forest.py:424: FutureWarning: `max_features='auto'` has been deprecated in 1.1 and will be removed in 1.3. To keep the past behaviour, explicitly set `max_features='sqrt'` or remove this parameter as it is also the default value for RandomForestClassifiers and ExtraTreesClassifiers.\n",
      "  warn(\n"
     ]
    },
    {
     "name": "stdout",
     "output_type": "stream",
     "text": [
      "[CV] END max_depth=1, max_features=auto, min_samples_leaf=6, min_samples_split=17, n_estimators=102; total time=   0.4s\n"
     ]
    },
    {
     "name": "stderr",
     "output_type": "stream",
     "text": [
      "/opt/anaconda3/lib/python3.9/site-packages/sklearn/ensemble/_forest.py:424: FutureWarning: `max_features='auto'` has been deprecated in 1.1 and will be removed in 1.3. To keep the past behaviour, explicitly set `max_features='sqrt'` or remove this parameter as it is also the default value for RandomForestClassifiers and ExtraTreesClassifiers.\n",
      "  warn(\n"
     ]
    },
    {
     "name": "stdout",
     "output_type": "stream",
     "text": [
      "[CV] END max_depth=1, max_features=auto, min_samples_leaf=6, min_samples_split=17, n_estimators=102; total time=   0.4s\n"
     ]
    },
    {
     "name": "stderr",
     "output_type": "stream",
     "text": [
      "/opt/anaconda3/lib/python3.9/site-packages/sklearn/ensemble/_forest.py:424: FutureWarning: `max_features='auto'` has been deprecated in 1.1 and will be removed in 1.3. To keep the past behaviour, explicitly set `max_features='sqrt'` or remove this parameter as it is also the default value for RandomForestClassifiers and ExtraTreesClassifiers.\n",
      "  warn(\n"
     ]
    },
    {
     "name": "stdout",
     "output_type": "stream",
     "text": [
      "[CV] END max_depth=1, max_features=auto, min_samples_leaf=6, min_samples_split=17, n_estimators=102; total time=   0.4s\n"
     ]
    },
    {
     "name": "stderr",
     "output_type": "stream",
     "text": [
      "/opt/anaconda3/lib/python3.9/site-packages/sklearn/ensemble/_forest.py:424: FutureWarning: `max_features='auto'` has been deprecated in 1.1 and will be removed in 1.3. To keep the past behaviour, explicitly set `max_features='sqrt'` or remove this parameter as it is also the default value for RandomForestClassifiers and ExtraTreesClassifiers.\n",
      "  warn(\n"
     ]
    },
    {
     "name": "stdout",
     "output_type": "stream",
     "text": [
      "[CV] END max_depth=1, max_features=auto, min_samples_leaf=6, min_samples_split=17, n_estimators=102; total time=   0.4s\n"
     ]
    },
    {
     "name": "stderr",
     "output_type": "stream",
     "text": [
      "/opt/anaconda3/lib/python3.9/site-packages/sklearn/ensemble/_forest.py:424: FutureWarning: `max_features='auto'` has been deprecated in 1.1 and will be removed in 1.3. To keep the past behaviour, explicitly set `max_features='sqrt'` or remove this parameter as it is also the default value for RandomForestClassifiers and ExtraTreesClassifiers.\n",
      "  warn(\n"
     ]
    },
    {
     "name": "stdout",
     "output_type": "stream",
     "text": [
      "[CV] END max_depth=1, max_features=auto, min_samples_leaf=6, min_samples_split=17, n_estimators=102; total time=   0.4s\n",
      "[CV] END max_depth=3, max_features=log2, min_samples_leaf=4, min_samples_split=4, n_estimators=156; total time=   0.5s\n",
      "[CV] END max_depth=3, max_features=log2, min_samples_leaf=4, min_samples_split=4, n_estimators=156; total time=   0.5s\n",
      "[CV] END max_depth=3, max_features=log2, min_samples_leaf=4, min_samples_split=4, n_estimators=156; total time=   0.5s\n",
      "[CV] END max_depth=3, max_features=log2, min_samples_leaf=4, min_samples_split=4, n_estimators=156; total time=   0.5s\n",
      "[CV] END max_depth=3, max_features=log2, min_samples_leaf=4, min_samples_split=4, n_estimators=156; total time=   0.5s\n"
     ]
    },
    {
     "name": "stderr",
     "output_type": "stream",
     "text": [
      "/opt/anaconda3/lib/python3.9/site-packages/sklearn/ensemble/_forest.py:424: FutureWarning: `max_features='auto'` has been deprecated in 1.1 and will be removed in 1.3. To keep the past behaviour, explicitly set `max_features='sqrt'` or remove this parameter as it is also the default value for RandomForestClassifiers and ExtraTreesClassifiers.\n",
      "  warn(\n"
     ]
    },
    {
     "name": "stdout",
     "output_type": "stream",
     "text": [
      "[CV] END max_depth=7, max_features=auto, min_samples_leaf=1, min_samples_split=9, n_estimators=137; total time=   2.5s\n"
     ]
    },
    {
     "name": "stderr",
     "output_type": "stream",
     "text": [
      "/opt/anaconda3/lib/python3.9/site-packages/sklearn/ensemble/_forest.py:424: FutureWarning: `max_features='auto'` has been deprecated in 1.1 and will be removed in 1.3. To keep the past behaviour, explicitly set `max_features='sqrt'` or remove this parameter as it is also the default value for RandomForestClassifiers and ExtraTreesClassifiers.\n",
      "  warn(\n"
     ]
    },
    {
     "name": "stdout",
     "output_type": "stream",
     "text": [
      "[CV] END max_depth=7, max_features=auto, min_samples_leaf=1, min_samples_split=9, n_estimators=137; total time=   2.5s\n"
     ]
    },
    {
     "name": "stderr",
     "output_type": "stream",
     "text": [
      "/opt/anaconda3/lib/python3.9/site-packages/sklearn/ensemble/_forest.py:424: FutureWarning: `max_features='auto'` has been deprecated in 1.1 and will be removed in 1.3. To keep the past behaviour, explicitly set `max_features='sqrt'` or remove this parameter as it is also the default value for RandomForestClassifiers and ExtraTreesClassifiers.\n",
      "  warn(\n"
     ]
    },
    {
     "name": "stdout",
     "output_type": "stream",
     "text": [
      "[CV] END max_depth=7, max_features=auto, min_samples_leaf=1, min_samples_split=9, n_estimators=137; total time=   2.5s\n"
     ]
    },
    {
     "name": "stderr",
     "output_type": "stream",
     "text": [
      "/opt/anaconda3/lib/python3.9/site-packages/sklearn/ensemble/_forest.py:424: FutureWarning: `max_features='auto'` has been deprecated in 1.1 and will be removed in 1.3. To keep the past behaviour, explicitly set `max_features='sqrt'` or remove this parameter as it is also the default value for RandomForestClassifiers and ExtraTreesClassifiers.\n",
      "  warn(\n"
     ]
    },
    {
     "name": "stdout",
     "output_type": "stream",
     "text": [
      "[CV] END max_depth=7, max_features=auto, min_samples_leaf=1, min_samples_split=9, n_estimators=137; total time=   2.4s\n"
     ]
    },
    {
     "name": "stderr",
     "output_type": "stream",
     "text": [
      "/opt/anaconda3/lib/python3.9/site-packages/sklearn/ensemble/_forest.py:424: FutureWarning: `max_features='auto'` has been deprecated in 1.1 and will be removed in 1.3. To keep the past behaviour, explicitly set `max_features='sqrt'` or remove this parameter as it is also the default value for RandomForestClassifiers and ExtraTreesClassifiers.\n",
      "  warn(\n"
     ]
    },
    {
     "name": "stdout",
     "output_type": "stream",
     "text": [
      "[CV] END max_depth=7, max_features=auto, min_samples_leaf=1, min_samples_split=9, n_estimators=137; total time=   2.4s\n",
      "[CV] END max_depth=7, max_features=sqrt, min_samples_leaf=8, min_samples_split=2, n_estimators=20; total time=   0.3s\n",
      "[CV] END max_depth=7, max_features=sqrt, min_samples_leaf=8, min_samples_split=2, n_estimators=20; total time=   0.3s\n",
      "[CV] END max_depth=7, max_features=sqrt, min_samples_leaf=8, min_samples_split=2, n_estimators=20; total time=   0.3s\n",
      "[CV] END max_depth=7, max_features=sqrt, min_samples_leaf=8, min_samples_split=2, n_estimators=20; total time=   0.3s\n",
      "[CV] END max_depth=7, max_features=sqrt, min_samples_leaf=8, min_samples_split=2, n_estimators=20; total time=   0.3s\n",
      "[CV] END max_depth=18, max_features=log2, min_samples_leaf=10, min_samples_split=4, n_estimators=16; total time=   0.1s\n",
      "[CV] END max_depth=18, max_features=log2, min_samples_leaf=10, min_samples_split=4, n_estimators=16; total time=   0.1s\n",
      "[CV] END max_depth=18, max_features=log2, min_samples_leaf=10, min_samples_split=4, n_estimators=16; total time=   0.1s\n",
      "[CV] END max_depth=18, max_features=log2, min_samples_leaf=10, min_samples_split=4, n_estimators=16; total time=   0.1s\n",
      "[CV] END max_depth=18, max_features=log2, min_samples_leaf=10, min_samples_split=4, n_estimators=16; total time=   0.1s\n",
      "[CV] END max_depth=16, max_features=sqrt, min_samples_leaf=16, min_samples_split=18, n_estimators=11; total time=   0.2s\n",
      "[CV] END max_depth=16, max_features=sqrt, min_samples_leaf=16, min_samples_split=18, n_estimators=11; total time=   0.2s\n",
      "[CV] END max_depth=16, max_features=sqrt, min_samples_leaf=16, min_samples_split=18, n_estimators=11; total time=   0.2s\n",
      "[CV] END max_depth=16, max_features=sqrt, min_samples_leaf=16, min_samples_split=18, n_estimators=11; total time=   0.2s\n",
      "[CV] END max_depth=16, max_features=sqrt, min_samples_leaf=16, min_samples_split=18, n_estimators=11; total time=   0.2s\n",
      "[CV] END max_depth=1, max_features=sqrt, min_samples_leaf=12, min_samples_split=6, n_estimators=46; total time=   0.2s\n",
      "[CV] END max_depth=1, max_features=sqrt, min_samples_leaf=12, min_samples_split=6, n_estimators=46; total time=   0.2s\n",
      "[CV] END max_depth=1, max_features=sqrt, min_samples_leaf=12, min_samples_split=6, n_estimators=46; total time=   0.2s\n",
      "[CV] END max_depth=1, max_features=sqrt, min_samples_leaf=12, min_samples_split=6, n_estimators=46; total time=   0.2s\n",
      "[CV] END max_depth=1, max_features=sqrt, min_samples_leaf=12, min_samples_split=6, n_estimators=46; total time=   0.2s\n"
     ]
    },
    {
     "name": "stderr",
     "output_type": "stream",
     "text": [
      "/opt/anaconda3/lib/python3.9/site-packages/sklearn/ensemble/_forest.py:424: FutureWarning: `max_features='auto'` has been deprecated in 1.1 and will be removed in 1.3. To keep the past behaviour, explicitly set `max_features='sqrt'` or remove this parameter as it is also the default value for RandomForestClassifiers and ExtraTreesClassifiers.\n",
      "  warn(\n"
     ]
    },
    {
     "name": "stdout",
     "output_type": "stream",
     "text": [
      "[CV] END max_depth=9, max_features=auto, min_samples_leaf=3, min_samples_split=17, n_estimators=140; total time=   2.8s\n"
     ]
    },
    {
     "name": "stderr",
     "output_type": "stream",
     "text": [
      "/opt/anaconda3/lib/python3.9/site-packages/sklearn/ensemble/_forest.py:424: FutureWarning: `max_features='auto'` has been deprecated in 1.1 and will be removed in 1.3. To keep the past behaviour, explicitly set `max_features='sqrt'` or remove this parameter as it is also the default value for RandomForestClassifiers and ExtraTreesClassifiers.\n",
      "  warn(\n"
     ]
    },
    {
     "name": "stdout",
     "output_type": "stream",
     "text": [
      "[CV] END max_depth=9, max_features=auto, min_samples_leaf=3, min_samples_split=17, n_estimators=140; total time=   2.8s\n"
     ]
    },
    {
     "name": "stderr",
     "output_type": "stream",
     "text": [
      "/opt/anaconda3/lib/python3.9/site-packages/sklearn/ensemble/_forest.py:424: FutureWarning: `max_features='auto'` has been deprecated in 1.1 and will be removed in 1.3. To keep the past behaviour, explicitly set `max_features='sqrt'` or remove this parameter as it is also the default value for RandomForestClassifiers and ExtraTreesClassifiers.\n",
      "  warn(\n"
     ]
    },
    {
     "name": "stdout",
     "output_type": "stream",
     "text": [
      "[CV] END max_depth=9, max_features=auto, min_samples_leaf=3, min_samples_split=17, n_estimators=140; total time=   2.8s\n"
     ]
    },
    {
     "name": "stderr",
     "output_type": "stream",
     "text": [
      "/opt/anaconda3/lib/python3.9/site-packages/sklearn/ensemble/_forest.py:424: FutureWarning: `max_features='auto'` has been deprecated in 1.1 and will be removed in 1.3. To keep the past behaviour, explicitly set `max_features='sqrt'` or remove this parameter as it is also the default value for RandomForestClassifiers and ExtraTreesClassifiers.\n",
      "  warn(\n"
     ]
    },
    {
     "name": "stdout",
     "output_type": "stream",
     "text": [
      "[CV] END max_depth=9, max_features=auto, min_samples_leaf=3, min_samples_split=17, n_estimators=140; total time=   2.8s\n"
     ]
    },
    {
     "name": "stderr",
     "output_type": "stream",
     "text": [
      "/opt/anaconda3/lib/python3.9/site-packages/sklearn/ensemble/_forest.py:424: FutureWarning: `max_features='auto'` has been deprecated in 1.1 and will be removed in 1.3. To keep the past behaviour, explicitly set `max_features='sqrt'` or remove this parameter as it is also the default value for RandomForestClassifiers and ExtraTreesClassifiers.\n",
      "  warn(\n"
     ]
    },
    {
     "name": "stdout",
     "output_type": "stream",
     "text": [
      "[CV] END max_depth=9, max_features=auto, min_samples_leaf=3, min_samples_split=17, n_estimators=140; total time=   2.8s\n",
      "[CV] END max_depth=1, max_features=log2, min_samples_leaf=17, min_samples_split=9, n_estimators=173; total time=   0.3s\n",
      "[CV] END max_depth=1, max_features=log2, min_samples_leaf=17, min_samples_split=9, n_estimators=173; total time=   0.3s\n",
      "[CV] END max_depth=1, max_features=log2, min_samples_leaf=17, min_samples_split=9, n_estimators=173; total time=   0.3s\n",
      "[CV] END max_depth=1, max_features=log2, min_samples_leaf=17, min_samples_split=9, n_estimators=173; total time=   0.3s\n",
      "[CV] END max_depth=1, max_features=log2, min_samples_leaf=17, min_samples_split=9, n_estimators=173; total time=   0.3s\n",
      "[CV] END max_depth=6, max_features=sqrt, min_samples_leaf=3, min_samples_split=17, n_estimators=108; total time=   1.7s\n",
      "[CV] END max_depth=6, max_features=sqrt, min_samples_leaf=3, min_samples_split=17, n_estimators=108; total time=   1.7s\n",
      "[CV] END max_depth=6, max_features=sqrt, min_samples_leaf=3, min_samples_split=17, n_estimators=108; total time=   1.7s\n",
      "[CV] END max_depth=6, max_features=sqrt, min_samples_leaf=3, min_samples_split=17, n_estimators=108; total time=   1.7s\n",
      "[CV] END max_depth=6, max_features=sqrt, min_samples_leaf=3, min_samples_split=17, n_estimators=108; total time=   1.7s\n",
      "[CV] END max_depth=18, max_features=sqrt, min_samples_leaf=18, min_samples_split=3, n_estimators=63; total time=   1.0s\n",
      "[CV] END max_depth=18, max_features=sqrt, min_samples_leaf=18, min_samples_split=3, n_estimators=63; total time=   1.0s\n",
      "[CV] END max_depth=18, max_features=sqrt, min_samples_leaf=18, min_samples_split=3, n_estimators=63; total time=   1.0s\n",
      "[CV] END max_depth=18, max_features=sqrt, min_samples_leaf=18, min_samples_split=3, n_estimators=63; total time=   1.0s\n",
      "[CV] END max_depth=18, max_features=sqrt, min_samples_leaf=18, min_samples_split=3, n_estimators=63; total time=   1.0s\n"
     ]
    },
    {
     "name": "stderr",
     "output_type": "stream",
     "text": [
      "/opt/anaconda3/lib/python3.9/site-packages/sklearn/ensemble/_forest.py:424: FutureWarning: `max_features='auto'` has been deprecated in 1.1 and will be removed in 1.3. To keep the past behaviour, explicitly set `max_features='sqrt'` or remove this parameter as it is also the default value for RandomForestClassifiers and ExtraTreesClassifiers.\n",
      "  warn(\n"
     ]
    },
    {
     "name": "stdout",
     "output_type": "stream",
     "text": [
      "[CV] END max_depth=3, max_features=auto, min_samples_leaf=9, min_samples_split=5, n_estimators=170; total time=   1.5s\n"
     ]
    },
    {
     "name": "stderr",
     "output_type": "stream",
     "text": [
      "/opt/anaconda3/lib/python3.9/site-packages/sklearn/ensemble/_forest.py:424: FutureWarning: `max_features='auto'` has been deprecated in 1.1 and will be removed in 1.3. To keep the past behaviour, explicitly set `max_features='sqrt'` or remove this parameter as it is also the default value for RandomForestClassifiers and ExtraTreesClassifiers.\n",
      "  warn(\n"
     ]
    },
    {
     "name": "stdout",
     "output_type": "stream",
     "text": [
      "[CV] END max_depth=3, max_features=auto, min_samples_leaf=9, min_samples_split=5, n_estimators=170; total time=   1.5s\n"
     ]
    },
    {
     "name": "stderr",
     "output_type": "stream",
     "text": [
      "/opt/anaconda3/lib/python3.9/site-packages/sklearn/ensemble/_forest.py:424: FutureWarning: `max_features='auto'` has been deprecated in 1.1 and will be removed in 1.3. To keep the past behaviour, explicitly set `max_features='sqrt'` or remove this parameter as it is also the default value for RandomForestClassifiers and ExtraTreesClassifiers.\n",
      "  warn(\n"
     ]
    },
    {
     "name": "stdout",
     "output_type": "stream",
     "text": [
      "[CV] END max_depth=3, max_features=auto, min_samples_leaf=9, min_samples_split=5, n_estimators=170; total time=   1.5s\n"
     ]
    },
    {
     "name": "stderr",
     "output_type": "stream",
     "text": [
      "/opt/anaconda3/lib/python3.9/site-packages/sklearn/ensemble/_forest.py:424: FutureWarning: `max_features='auto'` has been deprecated in 1.1 and will be removed in 1.3. To keep the past behaviour, explicitly set `max_features='sqrt'` or remove this parameter as it is also the default value for RandomForestClassifiers and ExtraTreesClassifiers.\n",
      "  warn(\n"
     ]
    },
    {
     "name": "stdout",
     "output_type": "stream",
     "text": [
      "[CV] END max_depth=3, max_features=auto, min_samples_leaf=9, min_samples_split=5, n_estimators=170; total time=   1.5s\n"
     ]
    },
    {
     "name": "stderr",
     "output_type": "stream",
     "text": [
      "/opt/anaconda3/lib/python3.9/site-packages/sklearn/ensemble/_forest.py:424: FutureWarning: `max_features='auto'` has been deprecated in 1.1 and will be removed in 1.3. To keep the past behaviour, explicitly set `max_features='sqrt'` or remove this parameter as it is also the default value for RandomForestClassifiers and ExtraTreesClassifiers.\n",
      "  warn(\n"
     ]
    },
    {
     "name": "stdout",
     "output_type": "stream",
     "text": [
      "[CV] END max_depth=3, max_features=auto, min_samples_leaf=9, min_samples_split=5, n_estimators=170; total time=   1.5s\n"
     ]
    },
    {
     "name": "stderr",
     "output_type": "stream",
     "text": [
      "/opt/anaconda3/lib/python3.9/site-packages/sklearn/ensemble/_forest.py:424: FutureWarning: `max_features='auto'` has been deprecated in 1.1 and will be removed in 1.3. To keep the past behaviour, explicitly set `max_features='sqrt'` or remove this parameter as it is also the default value for RandomForestClassifiers and ExtraTreesClassifiers.\n",
      "  warn(\n"
     ]
    },
    {
     "name": "stdout",
     "output_type": "stream",
     "text": [
      "[CV] END max_depth=4, max_features=auto, min_samples_leaf=14, min_samples_split=17, n_estimators=157; total time=   1.8s\n"
     ]
    },
    {
     "name": "stderr",
     "output_type": "stream",
     "text": [
      "/opt/anaconda3/lib/python3.9/site-packages/sklearn/ensemble/_forest.py:424: FutureWarning: `max_features='auto'` has been deprecated in 1.1 and will be removed in 1.3. To keep the past behaviour, explicitly set `max_features='sqrt'` or remove this parameter as it is also the default value for RandomForestClassifiers and ExtraTreesClassifiers.\n",
      "  warn(\n"
     ]
    },
    {
     "name": "stdout",
     "output_type": "stream",
     "text": [
      "[CV] END max_depth=4, max_features=auto, min_samples_leaf=14, min_samples_split=17, n_estimators=157; total time=   1.7s\n"
     ]
    },
    {
     "name": "stderr",
     "output_type": "stream",
     "text": [
      "/opt/anaconda3/lib/python3.9/site-packages/sklearn/ensemble/_forest.py:424: FutureWarning: `max_features='auto'` has been deprecated in 1.1 and will be removed in 1.3. To keep the past behaviour, explicitly set `max_features='sqrt'` or remove this parameter as it is also the default value for RandomForestClassifiers and ExtraTreesClassifiers.\n",
      "  warn(\n"
     ]
    },
    {
     "name": "stdout",
     "output_type": "stream",
     "text": [
      "[CV] END max_depth=4, max_features=auto, min_samples_leaf=14, min_samples_split=17, n_estimators=157; total time=   1.7s\n"
     ]
    },
    {
     "name": "stderr",
     "output_type": "stream",
     "text": [
      "/opt/anaconda3/lib/python3.9/site-packages/sklearn/ensemble/_forest.py:424: FutureWarning: `max_features='auto'` has been deprecated in 1.1 and will be removed in 1.3. To keep the past behaviour, explicitly set `max_features='sqrt'` or remove this parameter as it is also the default value for RandomForestClassifiers and ExtraTreesClassifiers.\n",
      "  warn(\n"
     ]
    },
    {
     "name": "stdout",
     "output_type": "stream",
     "text": [
      "[CV] END max_depth=4, max_features=auto, min_samples_leaf=14, min_samples_split=17, n_estimators=157; total time=   1.7s\n"
     ]
    },
    {
     "name": "stderr",
     "output_type": "stream",
     "text": [
      "/opt/anaconda3/lib/python3.9/site-packages/sklearn/ensemble/_forest.py:424: FutureWarning: `max_features='auto'` has been deprecated in 1.1 and will be removed in 1.3. To keep the past behaviour, explicitly set `max_features='sqrt'` or remove this parameter as it is also the default value for RandomForestClassifiers and ExtraTreesClassifiers.\n",
      "  warn(\n"
     ]
    },
    {
     "name": "stdout",
     "output_type": "stream",
     "text": [
      "[CV] END max_depth=4, max_features=auto, min_samples_leaf=14, min_samples_split=17, n_estimators=157; total time=   1.7s\n",
      "[CV] END max_depth=8, max_features=log2, min_samples_leaf=3, min_samples_split=18, n_estimators=137; total time=   0.9s\n",
      "[CV] END max_depth=8, max_features=log2, min_samples_leaf=3, min_samples_split=18, n_estimators=137; total time=   0.9s\n",
      "[CV] END max_depth=8, max_features=log2, min_samples_leaf=3, min_samples_split=18, n_estimators=137; total time=   0.9s\n",
      "[CV] END max_depth=8, max_features=log2, min_samples_leaf=3, min_samples_split=18, n_estimators=137; total time=   0.8s\n",
      "[CV] END max_depth=8, max_features=log2, min_samples_leaf=3, min_samples_split=18, n_estimators=137; total time=   0.8s\n",
      "[CV] END max_depth=1, max_features=log2, min_samples_leaf=19, min_samples_split=15, n_estimators=167; total time=   0.3s\n",
      "[CV] END max_depth=1, max_features=log2, min_samples_leaf=19, min_samples_split=15, n_estimators=167; total time=   0.3s\n",
      "[CV] END max_depth=1, max_features=log2, min_samples_leaf=19, min_samples_split=15, n_estimators=167; total time=   0.3s\n",
      "[CV] END max_depth=1, max_features=log2, min_samples_leaf=19, min_samples_split=15, n_estimators=167; total time=   0.3s\n",
      "[CV] END max_depth=1, max_features=log2, min_samples_leaf=19, min_samples_split=15, n_estimators=167; total time=   0.3s\n",
      "[CV] END max_depth=6, max_features=sqrt, min_samples_leaf=13, min_samples_split=9, n_estimators=36; total time=   0.6s\n",
      "[CV] END max_depth=6, max_features=sqrt, min_samples_leaf=13, min_samples_split=9, n_estimators=36; total time=   0.7s\n",
      "[CV] END max_depth=6, max_features=sqrt, min_samples_leaf=13, min_samples_split=9, n_estimators=36; total time=   0.6s\n",
      "[CV] END max_depth=6, max_features=sqrt, min_samples_leaf=13, min_samples_split=9, n_estimators=36; total time=   0.6s\n",
      "[CV] END max_depth=6, max_features=sqrt, min_samples_leaf=13, min_samples_split=9, n_estimators=36; total time=   0.6s\n"
     ]
    },
    {
     "name": "stderr",
     "output_type": "stream",
     "text": [
      "/opt/anaconda3/lib/python3.9/site-packages/sklearn/ensemble/_forest.py:424: FutureWarning: `max_features='auto'` has been deprecated in 1.1 and will be removed in 1.3. To keep the past behaviour, explicitly set `max_features='sqrt'` or remove this parameter as it is also the default value for RandomForestClassifiers and ExtraTreesClassifiers.\n",
      "  warn(\n"
     ]
    },
    {
     "name": "stdout",
     "output_type": "stream",
     "text": [
      "[CV] END max_depth=2, max_features=auto, min_samples_leaf=1, min_samples_split=16, n_estimators=70; total time=   0.5s\n"
     ]
    },
    {
     "name": "stderr",
     "output_type": "stream",
     "text": [
      "/opt/anaconda3/lib/python3.9/site-packages/sklearn/ensemble/_forest.py:424: FutureWarning: `max_features='auto'` has been deprecated in 1.1 and will be removed in 1.3. To keep the past behaviour, explicitly set `max_features='sqrt'` or remove this parameter as it is also the default value for RandomForestClassifiers and ExtraTreesClassifiers.\n",
      "  warn(\n"
     ]
    },
    {
     "name": "stdout",
     "output_type": "stream",
     "text": [
      "[CV] END max_depth=2, max_features=auto, min_samples_leaf=1, min_samples_split=16, n_estimators=70; total time=   0.5s\n"
     ]
    },
    {
     "name": "stderr",
     "output_type": "stream",
     "text": [
      "/opt/anaconda3/lib/python3.9/site-packages/sklearn/ensemble/_forest.py:424: FutureWarning: `max_features='auto'` has been deprecated in 1.1 and will be removed in 1.3. To keep the past behaviour, explicitly set `max_features='sqrt'` or remove this parameter as it is also the default value for RandomForestClassifiers and ExtraTreesClassifiers.\n",
      "  warn(\n"
     ]
    },
    {
     "name": "stdout",
     "output_type": "stream",
     "text": [
      "[CV] END max_depth=2, max_features=auto, min_samples_leaf=1, min_samples_split=16, n_estimators=70; total time=   0.5s\n"
     ]
    },
    {
     "name": "stderr",
     "output_type": "stream",
     "text": [
      "/opt/anaconda3/lib/python3.9/site-packages/sklearn/ensemble/_forest.py:424: FutureWarning: `max_features='auto'` has been deprecated in 1.1 and will be removed in 1.3. To keep the past behaviour, explicitly set `max_features='sqrt'` or remove this parameter as it is also the default value for RandomForestClassifiers and ExtraTreesClassifiers.\n",
      "  warn(\n"
     ]
    },
    {
     "name": "stdout",
     "output_type": "stream",
     "text": [
      "[CV] END max_depth=2, max_features=auto, min_samples_leaf=1, min_samples_split=16, n_estimators=70; total time=   0.5s\n"
     ]
    },
    {
     "name": "stderr",
     "output_type": "stream",
     "text": [
      "/opt/anaconda3/lib/python3.9/site-packages/sklearn/ensemble/_forest.py:424: FutureWarning: `max_features='auto'` has been deprecated in 1.1 and will be removed in 1.3. To keep the past behaviour, explicitly set `max_features='sqrt'` or remove this parameter as it is also the default value for RandomForestClassifiers and ExtraTreesClassifiers.\n",
      "  warn(\n"
     ]
    },
    {
     "name": "stdout",
     "output_type": "stream",
     "text": [
      "[CV] END max_depth=2, max_features=auto, min_samples_leaf=1, min_samples_split=16, n_estimators=70; total time=   0.5s\n",
      "[CV] END max_depth=16, max_features=log2, min_samples_leaf=4, min_samples_split=4, n_estimators=58; total time=   0.4s\n",
      "[CV] END max_depth=16, max_features=log2, min_samples_leaf=4, min_samples_split=4, n_estimators=58; total time=   0.4s\n",
      "[CV] END max_depth=16, max_features=log2, min_samples_leaf=4, min_samples_split=4, n_estimators=58; total time=   0.5s\n",
      "[CV] END max_depth=16, max_features=log2, min_samples_leaf=4, min_samples_split=4, n_estimators=58; total time=   0.5s\n",
      "[CV] END max_depth=16, max_features=log2, min_samples_leaf=4, min_samples_split=4, n_estimators=58; total time=   0.5s\n",
      "[CV] END max_depth=17, max_features=sqrt, min_samples_leaf=14, min_samples_split=7, n_estimators=108; total time=   1.9s\n",
      "[CV] END max_depth=17, max_features=sqrt, min_samples_leaf=14, min_samples_split=7, n_estimators=108; total time=   1.8s\n",
      "[CV] END max_depth=17, max_features=sqrt, min_samples_leaf=14, min_samples_split=7, n_estimators=108; total time=   1.8s\n",
      "[CV] END max_depth=17, max_features=sqrt, min_samples_leaf=14, min_samples_split=7, n_estimators=108; total time=   1.8s\n",
      "[CV] END max_depth=17, max_features=sqrt, min_samples_leaf=14, min_samples_split=7, n_estimators=108; total time=   1.7s\n"
     ]
    },
    {
     "name": "stderr",
     "output_type": "stream",
     "text": [
      "/opt/anaconda3/lib/python3.9/site-packages/sklearn/ensemble/_forest.py:424: FutureWarning: `max_features='auto'` has been deprecated in 1.1 and will be removed in 1.3. To keep the past behaviour, explicitly set `max_features='sqrt'` or remove this parameter as it is also the default value for RandomForestClassifiers and ExtraTreesClassifiers.\n",
      "  warn(\n"
     ]
    },
    {
     "name": "stdout",
     "output_type": "stream",
     "text": [
      "[CV] END max_depth=9, max_features=auto, min_samples_leaf=17, min_samples_split=15, n_estimators=190; total time=   3.0s\n"
     ]
    },
    {
     "name": "stderr",
     "output_type": "stream",
     "text": [
      "/opt/anaconda3/lib/python3.9/site-packages/sklearn/ensemble/_forest.py:424: FutureWarning: `max_features='auto'` has been deprecated in 1.1 and will be removed in 1.3. To keep the past behaviour, explicitly set `max_features='sqrt'` or remove this parameter as it is also the default value for RandomForestClassifiers and ExtraTreesClassifiers.\n",
      "  warn(\n"
     ]
    },
    {
     "name": "stdout",
     "output_type": "stream",
     "text": [
      "[CV] END max_depth=9, max_features=auto, min_samples_leaf=17, min_samples_split=15, n_estimators=190; total time=   2.9s\n"
     ]
    },
    {
     "name": "stderr",
     "output_type": "stream",
     "text": [
      "/opt/anaconda3/lib/python3.9/site-packages/sklearn/ensemble/_forest.py:424: FutureWarning: `max_features='auto'` has been deprecated in 1.1 and will be removed in 1.3. To keep the past behaviour, explicitly set `max_features='sqrt'` or remove this parameter as it is also the default value for RandomForestClassifiers and ExtraTreesClassifiers.\n",
      "  warn(\n"
     ]
    },
    {
     "name": "stdout",
     "output_type": "stream",
     "text": [
      "[CV] END max_depth=9, max_features=auto, min_samples_leaf=17, min_samples_split=15, n_estimators=190; total time=   2.9s\n"
     ]
    },
    {
     "name": "stderr",
     "output_type": "stream",
     "text": [
      "/opt/anaconda3/lib/python3.9/site-packages/sklearn/ensemble/_forest.py:424: FutureWarning: `max_features='auto'` has been deprecated in 1.1 and will be removed in 1.3. To keep the past behaviour, explicitly set `max_features='sqrt'` or remove this parameter as it is also the default value for RandomForestClassifiers and ExtraTreesClassifiers.\n",
      "  warn(\n"
     ]
    },
    {
     "name": "stdout",
     "output_type": "stream",
     "text": [
      "[CV] END max_depth=9, max_features=auto, min_samples_leaf=17, min_samples_split=15, n_estimators=190; total time=   2.9s\n"
     ]
    },
    {
     "name": "stderr",
     "output_type": "stream",
     "text": [
      "/opt/anaconda3/lib/python3.9/site-packages/sklearn/ensemble/_forest.py:424: FutureWarning: `max_features='auto'` has been deprecated in 1.1 and will be removed in 1.3. To keep the past behaviour, explicitly set `max_features='sqrt'` or remove this parameter as it is also the default value for RandomForestClassifiers and ExtraTreesClassifiers.\n",
      "  warn(\n"
     ]
    },
    {
     "name": "stdout",
     "output_type": "stream",
     "text": [
      "[CV] END max_depth=9, max_features=auto, min_samples_leaf=17, min_samples_split=15, n_estimators=190; total time=   2.9s\n"
     ]
    },
    {
     "name": "stderr",
     "output_type": "stream",
     "text": [
      "/opt/anaconda3/lib/python3.9/site-packages/sklearn/ensemble/_forest.py:424: FutureWarning: `max_features='auto'` has been deprecated in 1.1 and will be removed in 1.3. To keep the past behaviour, explicitly set `max_features='sqrt'` or remove this parameter as it is also the default value for RandomForestClassifiers and ExtraTreesClassifiers.\n",
      "  warn(\n"
     ]
    },
    {
     "name": "stdout",
     "output_type": "stream",
     "text": [
      "[CV] END max_depth=3, max_features=auto, min_samples_leaf=1, min_samples_split=4, n_estimators=137; total time=   1.2s\n"
     ]
    },
    {
     "name": "stderr",
     "output_type": "stream",
     "text": [
      "/opt/anaconda3/lib/python3.9/site-packages/sklearn/ensemble/_forest.py:424: FutureWarning: `max_features='auto'` has been deprecated in 1.1 and will be removed in 1.3. To keep the past behaviour, explicitly set `max_features='sqrt'` or remove this parameter as it is also the default value for RandomForestClassifiers and ExtraTreesClassifiers.\n",
      "  warn(\n"
     ]
    },
    {
     "name": "stdout",
     "output_type": "stream",
     "text": [
      "[CV] END max_depth=3, max_features=auto, min_samples_leaf=1, min_samples_split=4, n_estimators=137; total time=   1.2s\n"
     ]
    },
    {
     "name": "stderr",
     "output_type": "stream",
     "text": [
      "/opt/anaconda3/lib/python3.9/site-packages/sklearn/ensemble/_forest.py:424: FutureWarning: `max_features='auto'` has been deprecated in 1.1 and will be removed in 1.3. To keep the past behaviour, explicitly set `max_features='sqrt'` or remove this parameter as it is also the default value for RandomForestClassifiers and ExtraTreesClassifiers.\n",
      "  warn(\n"
     ]
    },
    {
     "name": "stdout",
     "output_type": "stream",
     "text": [
      "[CV] END max_depth=3, max_features=auto, min_samples_leaf=1, min_samples_split=4, n_estimators=137; total time=   1.3s\n"
     ]
    },
    {
     "name": "stderr",
     "output_type": "stream",
     "text": [
      "/opt/anaconda3/lib/python3.9/site-packages/sklearn/ensemble/_forest.py:424: FutureWarning: `max_features='auto'` has been deprecated in 1.1 and will be removed in 1.3. To keep the past behaviour, explicitly set `max_features='sqrt'` or remove this parameter as it is also the default value for RandomForestClassifiers and ExtraTreesClassifiers.\n",
      "  warn(\n"
     ]
    },
    {
     "name": "stdout",
     "output_type": "stream",
     "text": [
      "[CV] END max_depth=3, max_features=auto, min_samples_leaf=1, min_samples_split=4, n_estimators=137; total time=   1.2s\n"
     ]
    },
    {
     "name": "stderr",
     "output_type": "stream",
     "text": [
      "/opt/anaconda3/lib/python3.9/site-packages/sklearn/ensemble/_forest.py:424: FutureWarning: `max_features='auto'` has been deprecated in 1.1 and will be removed in 1.3. To keep the past behaviour, explicitly set `max_features='sqrt'` or remove this parameter as it is also the default value for RandomForestClassifiers and ExtraTreesClassifiers.\n",
      "  warn(\n"
     ]
    },
    {
     "name": "stdout",
     "output_type": "stream",
     "text": [
      "[CV] END max_depth=3, max_features=auto, min_samples_leaf=1, min_samples_split=4, n_estimators=137; total time=   1.2s\n"
     ]
    },
    {
     "name": "stderr",
     "output_type": "stream",
     "text": [
      "/opt/anaconda3/lib/python3.9/site-packages/sklearn/ensemble/_forest.py:424: FutureWarning: `max_features='auto'` has been deprecated in 1.1 and will be removed in 1.3. To keep the past behaviour, explicitly set `max_features='sqrt'` or remove this parameter as it is also the default value for RandomForestClassifiers and ExtraTreesClassifiers.\n",
      "  warn(\n"
     ]
    },
    {
     "name": "stdout",
     "output_type": "stream",
     "text": [
      "[CV] END max_depth=18, max_features=auto, min_samples_leaf=10, min_samples_split=4, n_estimators=113; total time=   2.1s\n"
     ]
    },
    {
     "name": "stderr",
     "output_type": "stream",
     "text": [
      "/opt/anaconda3/lib/python3.9/site-packages/sklearn/ensemble/_forest.py:424: FutureWarning: `max_features='auto'` has been deprecated in 1.1 and will be removed in 1.3. To keep the past behaviour, explicitly set `max_features='sqrt'` or remove this parameter as it is also the default value for RandomForestClassifiers and ExtraTreesClassifiers.\n",
      "  warn(\n"
     ]
    },
    {
     "name": "stdout",
     "output_type": "stream",
     "text": [
      "[CV] END max_depth=18, max_features=auto, min_samples_leaf=10, min_samples_split=4, n_estimators=113; total time=   2.0s\n"
     ]
    },
    {
     "name": "stderr",
     "output_type": "stream",
     "text": [
      "/opt/anaconda3/lib/python3.9/site-packages/sklearn/ensemble/_forest.py:424: FutureWarning: `max_features='auto'` has been deprecated in 1.1 and will be removed in 1.3. To keep the past behaviour, explicitly set `max_features='sqrt'` or remove this parameter as it is also the default value for RandomForestClassifiers and ExtraTreesClassifiers.\n",
      "  warn(\n"
     ]
    },
    {
     "name": "stdout",
     "output_type": "stream",
     "text": [
      "[CV] END max_depth=18, max_features=auto, min_samples_leaf=10, min_samples_split=4, n_estimators=113; total time=   2.0s\n"
     ]
    },
    {
     "name": "stderr",
     "output_type": "stream",
     "text": [
      "/opt/anaconda3/lib/python3.9/site-packages/sklearn/ensemble/_forest.py:424: FutureWarning: `max_features='auto'` has been deprecated in 1.1 and will be removed in 1.3. To keep the past behaviour, explicitly set `max_features='sqrt'` or remove this parameter as it is also the default value for RandomForestClassifiers and ExtraTreesClassifiers.\n",
      "  warn(\n"
     ]
    },
    {
     "name": "stdout",
     "output_type": "stream",
     "text": [
      "[CV] END max_depth=18, max_features=auto, min_samples_leaf=10, min_samples_split=4, n_estimators=113; total time=   2.0s\n"
     ]
    },
    {
     "name": "stderr",
     "output_type": "stream",
     "text": [
      "/opt/anaconda3/lib/python3.9/site-packages/sklearn/ensemble/_forest.py:424: FutureWarning: `max_features='auto'` has been deprecated in 1.1 and will be removed in 1.3. To keep the past behaviour, explicitly set `max_features='sqrt'` or remove this parameter as it is also the default value for RandomForestClassifiers and ExtraTreesClassifiers.\n",
      "  warn(\n"
     ]
    },
    {
     "name": "stdout",
     "output_type": "stream",
     "text": [
      "[CV] END max_depth=18, max_features=auto, min_samples_leaf=10, min_samples_split=4, n_estimators=113; total time=   2.0s\n",
      "[CV] END max_depth=14, max_features=sqrt, min_samples_leaf=15, min_samples_split=3, n_estimators=136; total time=   2.2s\n",
      "[CV] END max_depth=14, max_features=sqrt, min_samples_leaf=15, min_samples_split=3, n_estimators=136; total time=   2.2s\n",
      "[CV] END max_depth=14, max_features=sqrt, min_samples_leaf=15, min_samples_split=3, n_estimators=136; total time=   2.2s\n",
      "[CV] END max_depth=14, max_features=sqrt, min_samples_leaf=15, min_samples_split=3, n_estimators=136; total time=   2.2s\n",
      "[CV] END max_depth=14, max_features=sqrt, min_samples_leaf=15, min_samples_split=3, n_estimators=136; total time=   2.2s\n",
      "[CV] END max_depth=10, max_features=sqrt, min_samples_leaf=17, min_samples_split=9, n_estimators=170; total time=   2.6s\n",
      "[CV] END max_depth=10, max_features=sqrt, min_samples_leaf=17, min_samples_split=9, n_estimators=170; total time=   2.6s\n",
      "[CV] END max_depth=10, max_features=sqrt, min_samples_leaf=17, min_samples_split=9, n_estimators=170; total time=   2.6s\n",
      "[CV] END max_depth=10, max_features=sqrt, min_samples_leaf=17, min_samples_split=9, n_estimators=170; total time=   2.6s\n",
      "[CV] END max_depth=10, max_features=sqrt, min_samples_leaf=17, min_samples_split=9, n_estimators=170; total time=   2.6s\n",
      "[CV] END max_depth=9, max_features=log2, min_samples_leaf=16, min_samples_split=8, n_estimators=179; total time=   1.0s\n",
      "[CV] END max_depth=9, max_features=log2, min_samples_leaf=16, min_samples_split=8, n_estimators=179; total time=   1.0s\n",
      "[CV] END max_depth=9, max_features=log2, min_samples_leaf=16, min_samples_split=8, n_estimators=179; total time=   0.9s\n",
      "[CV] END max_depth=9, max_features=log2, min_samples_leaf=16, min_samples_split=8, n_estimators=179; total time=   0.9s\n",
      "[CV] END max_depth=9, max_features=log2, min_samples_leaf=16, min_samples_split=8, n_estimators=179; total time=   0.9s\n",
      "[CV] END max_depth=3, max_features=sqrt, min_samples_leaf=13, min_samples_split=8, n_estimators=66; total time=   0.6s\n",
      "[CV] END max_depth=3, max_features=sqrt, min_samples_leaf=13, min_samples_split=8, n_estimators=66; total time=   0.6s\n",
      "[CV] END max_depth=3, max_features=sqrt, min_samples_leaf=13, min_samples_split=8, n_estimators=66; total time=   0.6s\n",
      "[CV] END max_depth=3, max_features=sqrt, min_samples_leaf=13, min_samples_split=8, n_estimators=66; total time=   0.6s\n",
      "[CV] END max_depth=3, max_features=sqrt, min_samples_leaf=13, min_samples_split=8, n_estimators=66; total time=   0.6s\n"
     ]
    },
    {
     "name": "stderr",
     "output_type": "stream",
     "text": [
      "/opt/anaconda3/lib/python3.9/site-packages/sklearn/ensemble/_forest.py:424: FutureWarning: `max_features='auto'` has been deprecated in 1.1 and will be removed in 1.3. To keep the past behaviour, explicitly set `max_features='sqrt'` or remove this parameter as it is also the default value for RandomForestClassifiers and ExtraTreesClassifiers.\n",
      "  warn(\n"
     ]
    },
    {
     "name": "stdout",
     "output_type": "stream",
     "text": [
      "[CV] END max_depth=4, max_features=auto, min_samples_leaf=1, min_samples_split=9, n_estimators=153; total time=   1.7s\n"
     ]
    },
    {
     "name": "stderr",
     "output_type": "stream",
     "text": [
      "/opt/anaconda3/lib/python3.9/site-packages/sklearn/ensemble/_forest.py:424: FutureWarning: `max_features='auto'` has been deprecated in 1.1 and will be removed in 1.3. To keep the past behaviour, explicitly set `max_features='sqrt'` or remove this parameter as it is also the default value for RandomForestClassifiers and ExtraTreesClassifiers.\n",
      "  warn(\n"
     ]
    },
    {
     "name": "stdout",
     "output_type": "stream",
     "text": [
      "[CV] END max_depth=4, max_features=auto, min_samples_leaf=1, min_samples_split=9, n_estimators=153; total time=   1.8s\n"
     ]
    },
    {
     "name": "stderr",
     "output_type": "stream",
     "text": [
      "/opt/anaconda3/lib/python3.9/site-packages/sklearn/ensemble/_forest.py:424: FutureWarning: `max_features='auto'` has been deprecated in 1.1 and will be removed in 1.3. To keep the past behaviour, explicitly set `max_features='sqrt'` or remove this parameter as it is also the default value for RandomForestClassifiers and ExtraTreesClassifiers.\n",
      "  warn(\n"
     ]
    },
    {
     "name": "stdout",
     "output_type": "stream",
     "text": [
      "[CV] END max_depth=4, max_features=auto, min_samples_leaf=1, min_samples_split=9, n_estimators=153; total time=   1.7s\n"
     ]
    },
    {
     "name": "stderr",
     "output_type": "stream",
     "text": [
      "/opt/anaconda3/lib/python3.9/site-packages/sklearn/ensemble/_forest.py:424: FutureWarning: `max_features='auto'` has been deprecated in 1.1 and will be removed in 1.3. To keep the past behaviour, explicitly set `max_features='sqrt'` or remove this parameter as it is also the default value for RandomForestClassifiers and ExtraTreesClassifiers.\n",
      "  warn(\n"
     ]
    },
    {
     "name": "stdout",
     "output_type": "stream",
     "text": [
      "[CV] END max_depth=4, max_features=auto, min_samples_leaf=1, min_samples_split=9, n_estimators=153; total time=   1.7s\n"
     ]
    },
    {
     "name": "stderr",
     "output_type": "stream",
     "text": [
      "/opt/anaconda3/lib/python3.9/site-packages/sklearn/ensemble/_forest.py:424: FutureWarning: `max_features='auto'` has been deprecated in 1.1 and will be removed in 1.3. To keep the past behaviour, explicitly set `max_features='sqrt'` or remove this parameter as it is also the default value for RandomForestClassifiers and ExtraTreesClassifiers.\n",
      "  warn(\n"
     ]
    },
    {
     "name": "stdout",
     "output_type": "stream",
     "text": [
      "[CV] END max_depth=4, max_features=auto, min_samples_leaf=1, min_samples_split=9, n_estimators=153; total time=   1.7s\n",
      "[CV] END max_depth=14, max_features=log2, min_samples_leaf=15, min_samples_split=3, n_estimators=75; total time=   0.4s\n",
      "[CV] END max_depth=14, max_features=log2, min_samples_leaf=15, min_samples_split=3, n_estimators=75; total time=   0.4s\n",
      "[CV] END max_depth=14, max_features=log2, min_samples_leaf=15, min_samples_split=3, n_estimators=75; total time=   0.4s\n",
      "[CV] END max_depth=14, max_features=log2, min_samples_leaf=15, min_samples_split=3, n_estimators=75; total time=   0.4s\n",
      "[CV] END max_depth=14, max_features=log2, min_samples_leaf=15, min_samples_split=3, n_estimators=75; total time=   0.4s\n"
     ]
    },
    {
     "name": "stderr",
     "output_type": "stream",
     "text": [
      "/opt/anaconda3/lib/python3.9/site-packages/sklearn/ensemble/_forest.py:424: FutureWarning: `max_features='auto'` has been deprecated in 1.1 and will be removed in 1.3. To keep the past behaviour, explicitly set `max_features='sqrt'` or remove this parameter as it is also the default value for RandomForestClassifiers and ExtraTreesClassifiers.\n",
      "  warn(\n"
     ]
    },
    {
     "name": "stdout",
     "output_type": "stream",
     "text": [
      "[CV] END max_depth=19, max_features=auto, min_samples_leaf=17, min_samples_split=11, n_estimators=79; total time=   1.3s\n"
     ]
    },
    {
     "name": "stderr",
     "output_type": "stream",
     "text": [
      "/opt/anaconda3/lib/python3.9/site-packages/sklearn/ensemble/_forest.py:424: FutureWarning: `max_features='auto'` has been deprecated in 1.1 and will be removed in 1.3. To keep the past behaviour, explicitly set `max_features='sqrt'` or remove this parameter as it is also the default value for RandomForestClassifiers and ExtraTreesClassifiers.\n",
      "  warn(\n"
     ]
    },
    {
     "name": "stdout",
     "output_type": "stream",
     "text": [
      "[CV] END max_depth=19, max_features=auto, min_samples_leaf=17, min_samples_split=11, n_estimators=79; total time=   1.2s\n"
     ]
    },
    {
     "name": "stderr",
     "output_type": "stream",
     "text": [
      "/opt/anaconda3/lib/python3.9/site-packages/sklearn/ensemble/_forest.py:424: FutureWarning: `max_features='auto'` has been deprecated in 1.1 and will be removed in 1.3. To keep the past behaviour, explicitly set `max_features='sqrt'` or remove this parameter as it is also the default value for RandomForestClassifiers and ExtraTreesClassifiers.\n",
      "  warn(\n"
     ]
    },
    {
     "name": "stdout",
     "output_type": "stream",
     "text": [
      "[CV] END max_depth=19, max_features=auto, min_samples_leaf=17, min_samples_split=11, n_estimators=79; total time=   1.2s\n"
     ]
    },
    {
     "name": "stderr",
     "output_type": "stream",
     "text": [
      "/opt/anaconda3/lib/python3.9/site-packages/sklearn/ensemble/_forest.py:424: FutureWarning: `max_features='auto'` has been deprecated in 1.1 and will be removed in 1.3. To keep the past behaviour, explicitly set `max_features='sqrt'` or remove this parameter as it is also the default value for RandomForestClassifiers and ExtraTreesClassifiers.\n",
      "  warn(\n"
     ]
    },
    {
     "name": "stdout",
     "output_type": "stream",
     "text": [
      "[CV] END max_depth=19, max_features=auto, min_samples_leaf=17, min_samples_split=11, n_estimators=79; total time=   1.2s\n"
     ]
    },
    {
     "name": "stderr",
     "output_type": "stream",
     "text": [
      "/opt/anaconda3/lib/python3.9/site-packages/sklearn/ensemble/_forest.py:424: FutureWarning: `max_features='auto'` has been deprecated in 1.1 and will be removed in 1.3. To keep the past behaviour, explicitly set `max_features='sqrt'` or remove this parameter as it is also the default value for RandomForestClassifiers and ExtraTreesClassifiers.\n",
      "  warn(\n"
     ]
    },
    {
     "name": "stdout",
     "output_type": "stream",
     "text": [
      "[CV] END max_depth=19, max_features=auto, min_samples_leaf=17, min_samples_split=11, n_estimators=79; total time=   1.2s\n",
      "[CV] END max_depth=15, max_features=sqrt, min_samples_leaf=11, min_samples_split=6, n_estimators=17; total time=   0.3s\n",
      "[CV] END max_depth=15, max_features=sqrt, min_samples_leaf=11, min_samples_split=6, n_estimators=17; total time=   0.3s\n",
      "[CV] END max_depth=15, max_features=sqrt, min_samples_leaf=11, min_samples_split=6, n_estimators=17; total time=   0.3s\n",
      "[CV] END max_depth=15, max_features=sqrt, min_samples_leaf=11, min_samples_split=6, n_estimators=17; total time=   0.3s\n",
      "[CV] END max_depth=15, max_features=sqrt, min_samples_leaf=11, min_samples_split=6, n_estimators=17; total time=   0.3s\n"
     ]
    },
    {
     "name": "stderr",
     "output_type": "stream",
     "text": [
      "/opt/anaconda3/lib/python3.9/site-packages/sklearn/ensemble/_forest.py:424: FutureWarning: `max_features='auto'` has been deprecated in 1.1 and will be removed in 1.3. To keep the past behaviour, explicitly set `max_features='sqrt'` or remove this parameter as it is also the default value for RandomForestClassifiers and ExtraTreesClassifiers.\n",
      "  warn(\n"
     ]
    },
    {
     "name": "stdout",
     "output_type": "stream",
     "text": [
      "[CV] END max_depth=12, max_features=auto, min_samples_leaf=7, min_samples_split=5, n_estimators=15; total time=   0.3s\n"
     ]
    },
    {
     "name": "stderr",
     "output_type": "stream",
     "text": [
      "/opt/anaconda3/lib/python3.9/site-packages/sklearn/ensemble/_forest.py:424: FutureWarning: `max_features='auto'` has been deprecated in 1.1 and will be removed in 1.3. To keep the past behaviour, explicitly set `max_features='sqrt'` or remove this parameter as it is also the default value for RandomForestClassifiers and ExtraTreesClassifiers.\n",
      "  warn(\n"
     ]
    },
    {
     "name": "stdout",
     "output_type": "stream",
     "text": [
      "[CV] END max_depth=12, max_features=auto, min_samples_leaf=7, min_samples_split=5, n_estimators=15; total time=   0.3s\n"
     ]
    },
    {
     "name": "stderr",
     "output_type": "stream",
     "text": [
      "/opt/anaconda3/lib/python3.9/site-packages/sklearn/ensemble/_forest.py:424: FutureWarning: `max_features='auto'` has been deprecated in 1.1 and will be removed in 1.3. To keep the past behaviour, explicitly set `max_features='sqrt'` or remove this parameter as it is also the default value for RandomForestClassifiers and ExtraTreesClassifiers.\n",
      "  warn(\n"
     ]
    },
    {
     "name": "stdout",
     "output_type": "stream",
     "text": [
      "[CV] END max_depth=12, max_features=auto, min_samples_leaf=7, min_samples_split=5, n_estimators=15; total time=   0.3s\n"
     ]
    },
    {
     "name": "stderr",
     "output_type": "stream",
     "text": [
      "/opt/anaconda3/lib/python3.9/site-packages/sklearn/ensemble/_forest.py:424: FutureWarning: `max_features='auto'` has been deprecated in 1.1 and will be removed in 1.3. To keep the past behaviour, explicitly set `max_features='sqrt'` or remove this parameter as it is also the default value for RandomForestClassifiers and ExtraTreesClassifiers.\n",
      "  warn(\n"
     ]
    },
    {
     "name": "stdout",
     "output_type": "stream",
     "text": [
      "[CV] END max_depth=12, max_features=auto, min_samples_leaf=7, min_samples_split=5, n_estimators=15; total time=   0.3s\n"
     ]
    },
    {
     "name": "stderr",
     "output_type": "stream",
     "text": [
      "/opt/anaconda3/lib/python3.9/site-packages/sklearn/ensemble/_forest.py:424: FutureWarning: `max_features='auto'` has been deprecated in 1.1 and will be removed in 1.3. To keep the past behaviour, explicitly set `max_features='sqrt'` or remove this parameter as it is also the default value for RandomForestClassifiers and ExtraTreesClassifiers.\n",
      "  warn(\n"
     ]
    },
    {
     "name": "stdout",
     "output_type": "stream",
     "text": [
      "[CV] END max_depth=12, max_features=auto, min_samples_leaf=7, min_samples_split=5, n_estimators=15; total time=   0.3s\n",
      "[CV] END max_depth=13, max_features=sqrt, min_samples_leaf=15, min_samples_split=4, n_estimators=64; total time=   1.1s\n",
      "[CV] END max_depth=13, max_features=sqrt, min_samples_leaf=15, min_samples_split=4, n_estimators=64; total time=   1.0s\n",
      "[CV] END max_depth=13, max_features=sqrt, min_samples_leaf=15, min_samples_split=4, n_estimators=64; total time=   1.0s\n",
      "[CV] END max_depth=13, max_features=sqrt, min_samples_leaf=15, min_samples_split=4, n_estimators=64; total time=   1.0s\n",
      "[CV] END max_depth=13, max_features=sqrt, min_samples_leaf=15, min_samples_split=4, n_estimators=64; total time=   1.0s\n"
     ]
    },
    {
     "name": "stderr",
     "output_type": "stream",
     "text": [
      "/opt/anaconda3/lib/python3.9/site-packages/sklearn/ensemble/_forest.py:424: FutureWarning: `max_features='auto'` has been deprecated in 1.1 and will be removed in 1.3. To keep the past behaviour, explicitly set `max_features='sqrt'` or remove this parameter as it is also the default value for RandomForestClassifiers and ExtraTreesClassifiers.\n",
      "  warn(\n"
     ]
    },
    {
     "name": "stdout",
     "output_type": "stream",
     "text": [
      "[CV] END max_depth=8, max_features=auto, min_samples_leaf=18, min_samples_split=11, n_estimators=167; total time=   2.5s\n"
     ]
    },
    {
     "name": "stderr",
     "output_type": "stream",
     "text": [
      "/opt/anaconda3/lib/python3.9/site-packages/sklearn/ensemble/_forest.py:424: FutureWarning: `max_features='auto'` has been deprecated in 1.1 and will be removed in 1.3. To keep the past behaviour, explicitly set `max_features='sqrt'` or remove this parameter as it is also the default value for RandomForestClassifiers and ExtraTreesClassifiers.\n",
      "  warn(\n"
     ]
    },
    {
     "name": "stdout",
     "output_type": "stream",
     "text": [
      "[CV] END max_depth=8, max_features=auto, min_samples_leaf=18, min_samples_split=11, n_estimators=167; total time=   2.5s\n"
     ]
    },
    {
     "name": "stderr",
     "output_type": "stream",
     "text": [
      "/opt/anaconda3/lib/python3.9/site-packages/sklearn/ensemble/_forest.py:424: FutureWarning: `max_features='auto'` has been deprecated in 1.1 and will be removed in 1.3. To keep the past behaviour, explicitly set `max_features='sqrt'` or remove this parameter as it is also the default value for RandomForestClassifiers and ExtraTreesClassifiers.\n",
      "  warn(\n"
     ]
    },
    {
     "name": "stdout",
     "output_type": "stream",
     "text": [
      "[CV] END max_depth=8, max_features=auto, min_samples_leaf=18, min_samples_split=11, n_estimators=167; total time=   2.5s\n"
     ]
    },
    {
     "name": "stderr",
     "output_type": "stream",
     "text": [
      "/opt/anaconda3/lib/python3.9/site-packages/sklearn/ensemble/_forest.py:424: FutureWarning: `max_features='auto'` has been deprecated in 1.1 and will be removed in 1.3. To keep the past behaviour, explicitly set `max_features='sqrt'` or remove this parameter as it is also the default value for RandomForestClassifiers and ExtraTreesClassifiers.\n",
      "  warn(\n"
     ]
    },
    {
     "name": "stdout",
     "output_type": "stream",
     "text": [
      "[CV] END max_depth=8, max_features=auto, min_samples_leaf=18, min_samples_split=11, n_estimators=167; total time=   2.5s\n"
     ]
    },
    {
     "name": "stderr",
     "output_type": "stream",
     "text": [
      "/opt/anaconda3/lib/python3.9/site-packages/sklearn/ensemble/_forest.py:424: FutureWarning: `max_features='auto'` has been deprecated in 1.1 and will be removed in 1.3. To keep the past behaviour, explicitly set `max_features='sqrt'` or remove this parameter as it is also the default value for RandomForestClassifiers and ExtraTreesClassifiers.\n",
      "  warn(\n"
     ]
    },
    {
     "name": "stdout",
     "output_type": "stream",
     "text": [
      "[CV] END max_depth=8, max_features=auto, min_samples_leaf=18, min_samples_split=11, n_estimators=167; total time=   2.5s\n"
     ]
    },
    {
     "name": "stderr",
     "output_type": "stream",
     "text": [
      "/opt/anaconda3/lib/python3.9/site-packages/sklearn/ensemble/_forest.py:424: FutureWarning: `max_features='auto'` has been deprecated in 1.1 and will be removed in 1.3. To keep the past behaviour, explicitly set `max_features='sqrt'` or remove this parameter as it is also the default value for RandomForestClassifiers and ExtraTreesClassifiers.\n",
      "  warn(\n"
     ]
    },
    {
     "name": "stdout",
     "output_type": "stream",
     "text": [
      "[CV] END max_depth=19, max_features=auto, min_samples_leaf=19, min_samples_split=6, n_estimators=126; total time=   1.9s\n"
     ]
    },
    {
     "name": "stderr",
     "output_type": "stream",
     "text": [
      "/opt/anaconda3/lib/python3.9/site-packages/sklearn/ensemble/_forest.py:424: FutureWarning: `max_features='auto'` has been deprecated in 1.1 and will be removed in 1.3. To keep the past behaviour, explicitly set `max_features='sqrt'` or remove this parameter as it is also the default value for RandomForestClassifiers and ExtraTreesClassifiers.\n",
      "  warn(\n"
     ]
    },
    {
     "name": "stdout",
     "output_type": "stream",
     "text": [
      "[CV] END max_depth=19, max_features=auto, min_samples_leaf=19, min_samples_split=6, n_estimators=126; total time=   1.9s\n"
     ]
    },
    {
     "name": "stderr",
     "output_type": "stream",
     "text": [
      "/opt/anaconda3/lib/python3.9/site-packages/sklearn/ensemble/_forest.py:424: FutureWarning: `max_features='auto'` has been deprecated in 1.1 and will be removed in 1.3. To keep the past behaviour, explicitly set `max_features='sqrt'` or remove this parameter as it is also the default value for RandomForestClassifiers and ExtraTreesClassifiers.\n",
      "  warn(\n"
     ]
    },
    {
     "name": "stdout",
     "output_type": "stream",
     "text": [
      "[CV] END max_depth=19, max_features=auto, min_samples_leaf=19, min_samples_split=6, n_estimators=126; total time=   1.9s\n"
     ]
    },
    {
     "name": "stderr",
     "output_type": "stream",
     "text": [
      "/opt/anaconda3/lib/python3.9/site-packages/sklearn/ensemble/_forest.py:424: FutureWarning: `max_features='auto'` has been deprecated in 1.1 and will be removed in 1.3. To keep the past behaviour, explicitly set `max_features='sqrt'` or remove this parameter as it is also the default value for RandomForestClassifiers and ExtraTreesClassifiers.\n",
      "  warn(\n"
     ]
    },
    {
     "name": "stdout",
     "output_type": "stream",
     "text": [
      "[CV] END max_depth=19, max_features=auto, min_samples_leaf=19, min_samples_split=6, n_estimators=126; total time=   1.9s\n"
     ]
    },
    {
     "name": "stderr",
     "output_type": "stream",
     "text": [
      "/opt/anaconda3/lib/python3.9/site-packages/sklearn/ensemble/_forest.py:424: FutureWarning: `max_features='auto'` has been deprecated in 1.1 and will be removed in 1.3. To keep the past behaviour, explicitly set `max_features='sqrt'` or remove this parameter as it is also the default value for RandomForestClassifiers and ExtraTreesClassifiers.\n",
      "  warn(\n"
     ]
    },
    {
     "name": "stdout",
     "output_type": "stream",
     "text": [
      "[CV] END max_depth=19, max_features=auto, min_samples_leaf=19, min_samples_split=6, n_estimators=126; total time=   1.9s\n"
     ]
    },
    {
     "name": "stderr",
     "output_type": "stream",
     "text": [
      "/opt/anaconda3/lib/python3.9/site-packages/sklearn/ensemble/_forest.py:424: FutureWarning: `max_features='auto'` has been deprecated in 1.1 and will be removed in 1.3. To keep the past behaviour, explicitly set `max_features='sqrt'` or remove this parameter as it is also the default value for RandomForestClassifiers and ExtraTreesClassifiers.\n",
      "  warn(\n"
     ]
    },
    {
     "name": "stdout",
     "output_type": "stream",
     "text": [
      "[CV] END max_depth=9, max_features=auto, min_samples_leaf=1, min_samples_split=2, n_estimators=43; total time=   0.9s\n"
     ]
    },
    {
     "name": "stderr",
     "output_type": "stream",
     "text": [
      "/opt/anaconda3/lib/python3.9/site-packages/sklearn/ensemble/_forest.py:424: FutureWarning: `max_features='auto'` has been deprecated in 1.1 and will be removed in 1.3. To keep the past behaviour, explicitly set `max_features='sqrt'` or remove this parameter as it is also the default value for RandomForestClassifiers and ExtraTreesClassifiers.\n",
      "  warn(\n"
     ]
    },
    {
     "name": "stdout",
     "output_type": "stream",
     "text": [
      "[CV] END max_depth=9, max_features=auto, min_samples_leaf=1, min_samples_split=2, n_estimators=43; total time=   0.9s\n"
     ]
    },
    {
     "name": "stderr",
     "output_type": "stream",
     "text": [
      "/opt/anaconda3/lib/python3.9/site-packages/sklearn/ensemble/_forest.py:424: FutureWarning: `max_features='auto'` has been deprecated in 1.1 and will be removed in 1.3. To keep the past behaviour, explicitly set `max_features='sqrt'` or remove this parameter as it is also the default value for RandomForestClassifiers and ExtraTreesClassifiers.\n",
      "  warn(\n"
     ]
    },
    {
     "name": "stdout",
     "output_type": "stream",
     "text": [
      "[CV] END max_depth=9, max_features=auto, min_samples_leaf=1, min_samples_split=2, n_estimators=43; total time=   0.9s\n"
     ]
    },
    {
     "name": "stderr",
     "output_type": "stream",
     "text": [
      "/opt/anaconda3/lib/python3.9/site-packages/sklearn/ensemble/_forest.py:424: FutureWarning: `max_features='auto'` has been deprecated in 1.1 and will be removed in 1.3. To keep the past behaviour, explicitly set `max_features='sqrt'` or remove this parameter as it is also the default value for RandomForestClassifiers and ExtraTreesClassifiers.\n",
      "  warn(\n"
     ]
    },
    {
     "name": "stdout",
     "output_type": "stream",
     "text": [
      "[CV] END max_depth=9, max_features=auto, min_samples_leaf=1, min_samples_split=2, n_estimators=43; total time=   1.0s\n"
     ]
    },
    {
     "name": "stderr",
     "output_type": "stream",
     "text": [
      "/opt/anaconda3/lib/python3.9/site-packages/sklearn/ensemble/_forest.py:424: FutureWarning: `max_features='auto'` has been deprecated in 1.1 and will be removed in 1.3. To keep the past behaviour, explicitly set `max_features='sqrt'` or remove this parameter as it is also the default value for RandomForestClassifiers and ExtraTreesClassifiers.\n",
      "  warn(\n"
     ]
    },
    {
     "name": "stdout",
     "output_type": "stream",
     "text": [
      "[CV] END max_depth=9, max_features=auto, min_samples_leaf=1, min_samples_split=2, n_estimators=43; total time=   0.9s\n"
     ]
    },
    {
     "name": "stderr",
     "output_type": "stream",
     "text": [
      "/opt/anaconda3/lib/python3.9/site-packages/sklearn/ensemble/_forest.py:424: FutureWarning: `max_features='auto'` has been deprecated in 1.1 and will be removed in 1.3. To keep the past behaviour, explicitly set `max_features='sqrt'` or remove this parameter as it is also the default value for RandomForestClassifiers and ExtraTreesClassifiers.\n",
      "  warn(\n"
     ]
    },
    {
     "name": "stdout",
     "output_type": "stream",
     "text": [
      "[CV] END max_depth=16, max_features=auto, min_samples_leaf=8, min_samples_split=14, n_estimators=126; total time=   2.4s\n"
     ]
    },
    {
     "name": "stderr",
     "output_type": "stream",
     "text": [
      "/opt/anaconda3/lib/python3.9/site-packages/sklearn/ensemble/_forest.py:424: FutureWarning: `max_features='auto'` has been deprecated in 1.1 and will be removed in 1.3. To keep the past behaviour, explicitly set `max_features='sqrt'` or remove this parameter as it is also the default value for RandomForestClassifiers and ExtraTreesClassifiers.\n",
      "  warn(\n"
     ]
    },
    {
     "name": "stdout",
     "output_type": "stream",
     "text": [
      "[CV] END max_depth=16, max_features=auto, min_samples_leaf=8, min_samples_split=14, n_estimators=126; total time=   2.4s\n"
     ]
    },
    {
     "name": "stderr",
     "output_type": "stream",
     "text": [
      "/opt/anaconda3/lib/python3.9/site-packages/sklearn/ensemble/_forest.py:424: FutureWarning: `max_features='auto'` has been deprecated in 1.1 and will be removed in 1.3. To keep the past behaviour, explicitly set `max_features='sqrt'` or remove this parameter as it is also the default value for RandomForestClassifiers and ExtraTreesClassifiers.\n",
      "  warn(\n"
     ]
    },
    {
     "name": "stdout",
     "output_type": "stream",
     "text": [
      "[CV] END max_depth=16, max_features=auto, min_samples_leaf=8, min_samples_split=14, n_estimators=126; total time=   2.3s\n"
     ]
    },
    {
     "name": "stderr",
     "output_type": "stream",
     "text": [
      "/opt/anaconda3/lib/python3.9/site-packages/sklearn/ensemble/_forest.py:424: FutureWarning: `max_features='auto'` has been deprecated in 1.1 and will be removed in 1.3. To keep the past behaviour, explicitly set `max_features='sqrt'` or remove this parameter as it is also the default value for RandomForestClassifiers and ExtraTreesClassifiers.\n",
      "  warn(\n"
     ]
    },
    {
     "name": "stdout",
     "output_type": "stream",
     "text": [
      "[CV] END max_depth=16, max_features=auto, min_samples_leaf=8, min_samples_split=14, n_estimators=126; total time=   2.3s\n"
     ]
    },
    {
     "name": "stderr",
     "output_type": "stream",
     "text": [
      "/opt/anaconda3/lib/python3.9/site-packages/sklearn/ensemble/_forest.py:424: FutureWarning: `max_features='auto'` has been deprecated in 1.1 and will be removed in 1.3. To keep the past behaviour, explicitly set `max_features='sqrt'` or remove this parameter as it is also the default value for RandomForestClassifiers and ExtraTreesClassifiers.\n",
      "  warn(\n"
     ]
    },
    {
     "name": "stdout",
     "output_type": "stream",
     "text": [
      "[CV] END max_depth=16, max_features=auto, min_samples_leaf=8, min_samples_split=14, n_estimators=126; total time=   2.3s\n",
      "[CV] END max_depth=1, max_features=auto, min_samples_leaf=7, min_samples_split=6, n_estimators=31; total time=   0.1s\n"
     ]
    },
    {
     "name": "stderr",
     "output_type": "stream",
     "text": [
      "/opt/anaconda3/lib/python3.9/site-packages/sklearn/ensemble/_forest.py:424: FutureWarning: `max_features='auto'` has been deprecated in 1.1 and will be removed in 1.3. To keep the past behaviour, explicitly set `max_features='sqrt'` or remove this parameter as it is also the default value for RandomForestClassifiers and ExtraTreesClassifiers.\n",
      "  warn(\n",
      "/opt/anaconda3/lib/python3.9/site-packages/sklearn/ensemble/_forest.py:424: FutureWarning: `max_features='auto'` has been deprecated in 1.1 and will be removed in 1.3. To keep the past behaviour, explicitly set `max_features='sqrt'` or remove this parameter as it is also the default value for RandomForestClassifiers and ExtraTreesClassifiers.\n",
      "  warn(\n"
     ]
    },
    {
     "name": "stdout",
     "output_type": "stream",
     "text": [
      "[CV] END max_depth=1, max_features=auto, min_samples_leaf=7, min_samples_split=6, n_estimators=31; total time=   0.1s\n",
      "[CV] END max_depth=1, max_features=auto, min_samples_leaf=7, min_samples_split=6, n_estimators=31; total time=   0.1s\n"
     ]
    },
    {
     "name": "stderr",
     "output_type": "stream",
     "text": [
      "/opt/anaconda3/lib/python3.9/site-packages/sklearn/ensemble/_forest.py:424: FutureWarning: `max_features='auto'` has been deprecated in 1.1 and will be removed in 1.3. To keep the past behaviour, explicitly set `max_features='sqrt'` or remove this parameter as it is also the default value for RandomForestClassifiers and ExtraTreesClassifiers.\n",
      "  warn(\n",
      "/opt/anaconda3/lib/python3.9/site-packages/sklearn/ensemble/_forest.py:424: FutureWarning: `max_features='auto'` has been deprecated in 1.1 and will be removed in 1.3. To keep the past behaviour, explicitly set `max_features='sqrt'` or remove this parameter as it is also the default value for RandomForestClassifiers and ExtraTreesClassifiers.\n",
      "  warn(\n"
     ]
    },
    {
     "name": "stdout",
     "output_type": "stream",
     "text": [
      "[CV] END max_depth=1, max_features=auto, min_samples_leaf=7, min_samples_split=6, n_estimators=31; total time=   0.1s\n",
      "[CV] END max_depth=1, max_features=auto, min_samples_leaf=7, min_samples_split=6, n_estimators=31; total time=   0.1s\n"
     ]
    },
    {
     "name": "stderr",
     "output_type": "stream",
     "text": [
      "/opt/anaconda3/lib/python3.9/site-packages/sklearn/ensemble/_forest.py:424: FutureWarning: `max_features='auto'` has been deprecated in 1.1 and will be removed in 1.3. To keep the past behaviour, explicitly set `max_features='sqrt'` or remove this parameter as it is also the default value for RandomForestClassifiers and ExtraTreesClassifiers.\n",
      "  warn(\n"
     ]
    },
    {
     "name": "stdout",
     "output_type": "stream",
     "text": [
      "[CV] END max_depth=3, max_features=sqrt, min_samples_leaf=16, min_samples_split=6, n_estimators=95; total time=   0.8s\n",
      "[CV] END max_depth=3, max_features=sqrt, min_samples_leaf=16, min_samples_split=6, n_estimators=95; total time=   0.8s\n",
      "[CV] END max_depth=3, max_features=sqrt, min_samples_leaf=16, min_samples_split=6, n_estimators=95; total time=   0.8s\n",
      "[CV] END max_depth=3, max_features=sqrt, min_samples_leaf=16, min_samples_split=6, n_estimators=95; total time=   0.8s\n",
      "[CV] END max_depth=3, max_features=sqrt, min_samples_leaf=16, min_samples_split=6, n_estimators=95; total time=   0.8s\n"
     ]
    },
    {
     "name": "stderr",
     "output_type": "stream",
     "text": [
      "/opt/anaconda3/lib/python3.9/site-packages/sklearn/ensemble/_forest.py:424: FutureWarning: `max_features='auto'` has been deprecated in 1.1 and will be removed in 1.3. To keep the past behaviour, explicitly set `max_features='sqrt'` or remove this parameter as it is also the default value for RandomForestClassifiers and ExtraTreesClassifiers.\n",
      "  warn(\n"
     ]
    },
    {
     "name": "stdout",
     "output_type": "stream",
     "text": [
      "[CV] END max_depth=14, max_features=auto, min_samples_leaf=15, min_samples_split=18, n_estimators=103; total time=   1.7s\n"
     ]
    },
    {
     "name": "stderr",
     "output_type": "stream",
     "text": [
      "/opt/anaconda3/lib/python3.9/site-packages/sklearn/ensemble/_forest.py:424: FutureWarning: `max_features='auto'` has been deprecated in 1.1 and will be removed in 1.3. To keep the past behaviour, explicitly set `max_features='sqrt'` or remove this parameter as it is also the default value for RandomForestClassifiers and ExtraTreesClassifiers.\n",
      "  warn(\n"
     ]
    },
    {
     "name": "stdout",
     "output_type": "stream",
     "text": [
      "[CV] END max_depth=14, max_features=auto, min_samples_leaf=15, min_samples_split=18, n_estimators=103; total time=   1.7s\n"
     ]
    },
    {
     "name": "stderr",
     "output_type": "stream",
     "text": [
      "/opt/anaconda3/lib/python3.9/site-packages/sklearn/ensemble/_forest.py:424: FutureWarning: `max_features='auto'` has been deprecated in 1.1 and will be removed in 1.3. To keep the past behaviour, explicitly set `max_features='sqrt'` or remove this parameter as it is also the default value for RandomForestClassifiers and ExtraTreesClassifiers.\n",
      "  warn(\n"
     ]
    },
    {
     "name": "stdout",
     "output_type": "stream",
     "text": [
      "[CV] END max_depth=14, max_features=auto, min_samples_leaf=15, min_samples_split=18, n_estimators=103; total time=   1.7s\n"
     ]
    },
    {
     "name": "stderr",
     "output_type": "stream",
     "text": [
      "/opt/anaconda3/lib/python3.9/site-packages/sklearn/ensemble/_forest.py:424: FutureWarning: `max_features='auto'` has been deprecated in 1.1 and will be removed in 1.3. To keep the past behaviour, explicitly set `max_features='sqrt'` or remove this parameter as it is also the default value for RandomForestClassifiers and ExtraTreesClassifiers.\n",
      "  warn(\n"
     ]
    },
    {
     "name": "stdout",
     "output_type": "stream",
     "text": [
      "[CV] END max_depth=14, max_features=auto, min_samples_leaf=15, min_samples_split=18, n_estimators=103; total time=   1.6s\n"
     ]
    },
    {
     "name": "stderr",
     "output_type": "stream",
     "text": [
      "/opt/anaconda3/lib/python3.9/site-packages/sklearn/ensemble/_forest.py:424: FutureWarning: `max_features='auto'` has been deprecated in 1.1 and will be removed in 1.3. To keep the past behaviour, explicitly set `max_features='sqrt'` or remove this parameter as it is also the default value for RandomForestClassifiers and ExtraTreesClassifiers.\n",
      "  warn(\n"
     ]
    },
    {
     "name": "stdout",
     "output_type": "stream",
     "text": [
      "[CV] END max_depth=14, max_features=auto, min_samples_leaf=15, min_samples_split=18, n_estimators=103; total time=   1.7s\n",
      "[CV] END max_depth=14, max_features=sqrt, min_samples_leaf=5, min_samples_split=13, n_estimators=153; total time=   3.3s\n",
      "[CV] END max_depth=14, max_features=sqrt, min_samples_leaf=5, min_samples_split=13, n_estimators=153; total time=   3.2s\n",
      "[CV] END max_depth=14, max_features=sqrt, min_samples_leaf=5, min_samples_split=13, n_estimators=153; total time=   3.2s\n",
      "[CV] END max_depth=14, max_features=sqrt, min_samples_leaf=5, min_samples_split=13, n_estimators=153; total time=   3.1s\n",
      "[CV] END max_depth=14, max_features=sqrt, min_samples_leaf=5, min_samples_split=13, n_estimators=153; total time=   3.2s\n"
     ]
    },
    {
     "name": "stderr",
     "output_type": "stream",
     "text": [
      "/opt/anaconda3/lib/python3.9/site-packages/sklearn/ensemble/_forest.py:424: FutureWarning: `max_features='auto'` has been deprecated in 1.1 and will be removed in 1.3. To keep the past behaviour, explicitly set `max_features='sqrt'` or remove this parameter as it is also the default value for RandomForestClassifiers and ExtraTreesClassifiers.\n",
      "  warn(\n"
     ]
    },
    {
     "name": "stdout",
     "output_type": "stream",
     "text": [
      "[CV] END max_depth=16, max_features=auto, min_samples_leaf=7, min_samples_split=5, n_estimators=42; total time=   0.9s\n"
     ]
    },
    {
     "name": "stderr",
     "output_type": "stream",
     "text": [
      "/opt/anaconda3/lib/python3.9/site-packages/sklearn/ensemble/_forest.py:424: FutureWarning: `max_features='auto'` has been deprecated in 1.1 and will be removed in 1.3. To keep the past behaviour, explicitly set `max_features='sqrt'` or remove this parameter as it is also the default value for RandomForestClassifiers and ExtraTreesClassifiers.\n",
      "  warn(\n"
     ]
    },
    {
     "name": "stdout",
     "output_type": "stream",
     "text": [
      "[CV] END max_depth=16, max_features=auto, min_samples_leaf=7, min_samples_split=5, n_estimators=42; total time=   0.8s\n"
     ]
    },
    {
     "name": "stderr",
     "output_type": "stream",
     "text": [
      "/opt/anaconda3/lib/python3.9/site-packages/sklearn/ensemble/_forest.py:424: FutureWarning: `max_features='auto'` has been deprecated in 1.1 and will be removed in 1.3. To keep the past behaviour, explicitly set `max_features='sqrt'` or remove this parameter as it is also the default value for RandomForestClassifiers and ExtraTreesClassifiers.\n",
      "  warn(\n"
     ]
    },
    {
     "name": "stdout",
     "output_type": "stream",
     "text": [
      "[CV] END max_depth=16, max_features=auto, min_samples_leaf=7, min_samples_split=5, n_estimators=42; total time=   0.9s\n"
     ]
    },
    {
     "name": "stderr",
     "output_type": "stream",
     "text": [
      "/opt/anaconda3/lib/python3.9/site-packages/sklearn/ensemble/_forest.py:424: FutureWarning: `max_features='auto'` has been deprecated in 1.1 and will be removed in 1.3. To keep the past behaviour, explicitly set `max_features='sqrt'` or remove this parameter as it is also the default value for RandomForestClassifiers and ExtraTreesClassifiers.\n",
      "  warn(\n"
     ]
    },
    {
     "name": "stdout",
     "output_type": "stream",
     "text": [
      "[CV] END max_depth=16, max_features=auto, min_samples_leaf=7, min_samples_split=5, n_estimators=42; total time=   0.8s\n"
     ]
    },
    {
     "name": "stderr",
     "output_type": "stream",
     "text": [
      "/opt/anaconda3/lib/python3.9/site-packages/sklearn/ensemble/_forest.py:424: FutureWarning: `max_features='auto'` has been deprecated in 1.1 and will be removed in 1.3. To keep the past behaviour, explicitly set `max_features='sqrt'` or remove this parameter as it is also the default value for RandomForestClassifiers and ExtraTreesClassifiers.\n",
      "  warn(\n"
     ]
    },
    {
     "name": "stdout",
     "output_type": "stream",
     "text": [
      "[CV] END max_depth=16, max_features=auto, min_samples_leaf=7, min_samples_split=5, n_estimators=42; total time=   0.8s\n",
      "[CV] END max_depth=5, max_features=log2, min_samples_leaf=10, min_samples_split=6, n_estimators=109; total time=   0.5s\n",
      "[CV] END max_depth=5, max_features=log2, min_samples_leaf=10, min_samples_split=6, n_estimators=109; total time=   0.5s\n",
      "[CV] END max_depth=5, max_features=log2, min_samples_leaf=10, min_samples_split=6, n_estimators=109; total time=   0.5s\n",
      "[CV] END max_depth=5, max_features=log2, min_samples_leaf=10, min_samples_split=6, n_estimators=109; total time=   0.6s\n",
      "[CV] END max_depth=5, max_features=log2, min_samples_leaf=10, min_samples_split=6, n_estimators=109; total time=   0.5s\n",
      "[CV] END max_depth=2, max_features=log2, min_samples_leaf=10, min_samples_split=2, n_estimators=78; total time=   0.2s\n",
      "[CV] END max_depth=2, max_features=log2, min_samples_leaf=10, min_samples_split=2, n_estimators=78; total time=   0.2s\n",
      "[CV] END max_depth=2, max_features=log2, min_samples_leaf=10, min_samples_split=2, n_estimators=78; total time=   0.2s\n",
      "[CV] END max_depth=2, max_features=log2, min_samples_leaf=10, min_samples_split=2, n_estimators=78; total time=   0.3s\n",
      "[CV] END max_depth=2, max_features=log2, min_samples_leaf=10, min_samples_split=2, n_estimators=78; total time=   0.2s\n",
      "[CV] END max_depth=13, max_features=log2, min_samples_leaf=2, min_samples_split=18, n_estimators=137; total time=   1.0s\n",
      "[CV] END max_depth=13, max_features=log2, min_samples_leaf=2, min_samples_split=18, n_estimators=137; total time=   1.0s\n",
      "[CV] END max_depth=13, max_features=log2, min_samples_leaf=2, min_samples_split=18, n_estimators=137; total time=   1.0s\n",
      "[CV] END max_depth=13, max_features=log2, min_samples_leaf=2, min_samples_split=18, n_estimators=137; total time=   1.0s\n",
      "[CV] END max_depth=13, max_features=log2, min_samples_leaf=2, min_samples_split=18, n_estimators=137; total time=   1.0s\n",
      "[CV] END max_depth=12, max_features=sqrt, min_samples_leaf=3, min_samples_split=2, n_estimators=170; total time=   3.9s\n",
      "[CV] END max_depth=12, max_features=sqrt, min_samples_leaf=3, min_samples_split=2, n_estimators=170; total time=   3.8s\n",
      "[CV] END max_depth=12, max_features=sqrt, min_samples_leaf=3, min_samples_split=2, n_estimators=170; total time=   3.9s\n",
      "[CV] END max_depth=12, max_features=sqrt, min_samples_leaf=3, min_samples_split=2, n_estimators=170; total time=   3.7s\n",
      "[CV] END max_depth=12, max_features=sqrt, min_samples_leaf=3, min_samples_split=2, n_estimators=170; total time=   3.8s\n",
      "[CV] END max_depth=19, max_features=log2, min_samples_leaf=5, min_samples_split=13, n_estimators=76; total time=   0.5s\n",
      "[CV] END max_depth=19, max_features=log2, min_samples_leaf=5, min_samples_split=13, n_estimators=76; total time=   0.5s\n",
      "[CV] END max_depth=19, max_features=log2, min_samples_leaf=5, min_samples_split=13, n_estimators=76; total time=   0.5s\n",
      "[CV] END max_depth=19, max_features=log2, min_samples_leaf=5, min_samples_split=13, n_estimators=76; total time=   0.5s\n",
      "[CV] END max_depth=19, max_features=log2, min_samples_leaf=5, min_samples_split=13, n_estimators=76; total time=   0.5s\n"
     ]
    },
    {
     "name": "stderr",
     "output_type": "stream",
     "text": [
      "/opt/anaconda3/lib/python3.9/site-packages/sklearn/ensemble/_forest.py:424: FutureWarning: `max_features='auto'` has been deprecated in 1.1 and will be removed in 1.3. To keep the past behaviour, explicitly set `max_features='sqrt'` or remove this parameter as it is also the default value for RandomForestClassifiers and ExtraTreesClassifiers.\n",
      "  warn(\n"
     ]
    },
    {
     "name": "stdout",
     "output_type": "stream",
     "text": [
      "[CV] END max_depth=1, max_features=auto, min_samples_leaf=8, min_samples_split=11, n_estimators=52; total time=   0.2s\n",
      "[CV] END max_depth=1, max_features=auto, min_samples_leaf=8, min_samples_split=11, n_estimators=52; total time=   0.2s\n"
     ]
    },
    {
     "name": "stderr",
     "output_type": "stream",
     "text": [
      "/opt/anaconda3/lib/python3.9/site-packages/sklearn/ensemble/_forest.py:424: FutureWarning: `max_features='auto'` has been deprecated in 1.1 and will be removed in 1.3. To keep the past behaviour, explicitly set `max_features='sqrt'` or remove this parameter as it is also the default value for RandomForestClassifiers and ExtraTreesClassifiers.\n",
      "  warn(\n",
      "/opt/anaconda3/lib/python3.9/site-packages/sklearn/ensemble/_forest.py:424: FutureWarning: `max_features='auto'` has been deprecated in 1.1 and will be removed in 1.3. To keep the past behaviour, explicitly set `max_features='sqrt'` or remove this parameter as it is also the default value for RandomForestClassifiers and ExtraTreesClassifiers.\n",
      "  warn(\n"
     ]
    },
    {
     "name": "stdout",
     "output_type": "stream",
     "text": [
      "[CV] END max_depth=1, max_features=auto, min_samples_leaf=8, min_samples_split=11, n_estimators=52; total time=   0.2s\n",
      "[CV] END max_depth=1, max_features=auto, min_samples_leaf=8, min_samples_split=11, n_estimators=52; total time=   0.2s\n"
     ]
    },
    {
     "name": "stderr",
     "output_type": "stream",
     "text": [
      "/opt/anaconda3/lib/python3.9/site-packages/sklearn/ensemble/_forest.py:424: FutureWarning: `max_features='auto'` has been deprecated in 1.1 and will be removed in 1.3. To keep the past behaviour, explicitly set `max_features='sqrt'` or remove this parameter as it is also the default value for RandomForestClassifiers and ExtraTreesClassifiers.\n",
      "  warn(\n",
      "/opt/anaconda3/lib/python3.9/site-packages/sklearn/ensemble/_forest.py:424: FutureWarning: `max_features='auto'` has been deprecated in 1.1 and will be removed in 1.3. To keep the past behaviour, explicitly set `max_features='sqrt'` or remove this parameter as it is also the default value for RandomForestClassifiers and ExtraTreesClassifiers.\n",
      "  warn(\n"
     ]
    },
    {
     "name": "stdout",
     "output_type": "stream",
     "text": [
      "[CV] END max_depth=1, max_features=auto, min_samples_leaf=8, min_samples_split=11, n_estimators=52; total time=   0.2s\n"
     ]
    },
    {
     "name": "stderr",
     "output_type": "stream",
     "text": [
      "/opt/anaconda3/lib/python3.9/site-packages/sklearn/ensemble/_forest.py:424: FutureWarning: `max_features='auto'` has been deprecated in 1.1 and will be removed in 1.3. To keep the past behaviour, explicitly set `max_features='sqrt'` or remove this parameter as it is also the default value for RandomForestClassifiers and ExtraTreesClassifiers.\n",
      "  warn(\n"
     ]
    },
    {
     "name": "stdout",
     "output_type": "stream",
     "text": [
      "[CV] END max_depth=12, max_features=auto, min_samples_leaf=13, min_samples_split=13, n_estimators=104; total time=   1.7s\n"
     ]
    },
    {
     "name": "stderr",
     "output_type": "stream",
     "text": [
      "/opt/anaconda3/lib/python3.9/site-packages/sklearn/ensemble/_forest.py:424: FutureWarning: `max_features='auto'` has been deprecated in 1.1 and will be removed in 1.3. To keep the past behaviour, explicitly set `max_features='sqrt'` or remove this parameter as it is also the default value for RandomForestClassifiers and ExtraTreesClassifiers.\n",
      "  warn(\n"
     ]
    },
    {
     "name": "stdout",
     "output_type": "stream",
     "text": [
      "[CV] END max_depth=12, max_features=auto, min_samples_leaf=13, min_samples_split=13, n_estimators=104; total time=   1.8s\n"
     ]
    },
    {
     "name": "stderr",
     "output_type": "stream",
     "text": [
      "/opt/anaconda3/lib/python3.9/site-packages/sklearn/ensemble/_forest.py:424: FutureWarning: `max_features='auto'` has been deprecated in 1.1 and will be removed in 1.3. To keep the past behaviour, explicitly set `max_features='sqrt'` or remove this parameter as it is also the default value for RandomForestClassifiers and ExtraTreesClassifiers.\n",
      "  warn(\n"
     ]
    },
    {
     "name": "stdout",
     "output_type": "stream",
     "text": [
      "[CV] END max_depth=12, max_features=auto, min_samples_leaf=13, min_samples_split=13, n_estimators=104; total time=   1.7s\n"
     ]
    },
    {
     "name": "stderr",
     "output_type": "stream",
     "text": [
      "/opt/anaconda3/lib/python3.9/site-packages/sklearn/ensemble/_forest.py:424: FutureWarning: `max_features='auto'` has been deprecated in 1.1 and will be removed in 1.3. To keep the past behaviour, explicitly set `max_features='sqrt'` or remove this parameter as it is also the default value for RandomForestClassifiers and ExtraTreesClassifiers.\n",
      "  warn(\n"
     ]
    },
    {
     "name": "stdout",
     "output_type": "stream",
     "text": [
      "[CV] END max_depth=12, max_features=auto, min_samples_leaf=13, min_samples_split=13, n_estimators=104; total time=   1.7s\n"
     ]
    },
    {
     "name": "stderr",
     "output_type": "stream",
     "text": [
      "/opt/anaconda3/lib/python3.9/site-packages/sklearn/ensemble/_forest.py:424: FutureWarning: `max_features='auto'` has been deprecated in 1.1 and will be removed in 1.3. To keep the past behaviour, explicitly set `max_features='sqrt'` or remove this parameter as it is also the default value for RandomForestClassifiers and ExtraTreesClassifiers.\n",
      "  warn(\n"
     ]
    },
    {
     "name": "stdout",
     "output_type": "stream",
     "text": [
      "[CV] END max_depth=12, max_features=auto, min_samples_leaf=13, min_samples_split=13, n_estimators=104; total time=   1.8s\n",
      "[CV] END max_depth=14, max_features=sqrt, min_samples_leaf=19, min_samples_split=19, n_estimators=44; total time=   0.7s\n",
      "[CV] END max_depth=14, max_features=sqrt, min_samples_leaf=19, min_samples_split=19, n_estimators=44; total time=   0.7s\n",
      "[CV] END max_depth=14, max_features=sqrt, min_samples_leaf=19, min_samples_split=19, n_estimators=44; total time=   0.7s\n",
      "[CV] END max_depth=14, max_features=sqrt, min_samples_leaf=19, min_samples_split=19, n_estimators=44; total time=   0.7s\n",
      "[CV] END max_depth=14, max_features=sqrt, min_samples_leaf=19, min_samples_split=19, n_estimators=44; total time=   0.7s\n",
      "[CV] END max_depth=17, max_features=sqrt, min_samples_leaf=8, min_samples_split=11, n_estimators=99; total time=   1.9s\n",
      "[CV] END max_depth=17, max_features=sqrt, min_samples_leaf=8, min_samples_split=11, n_estimators=99; total time=   1.8s\n",
      "[CV] END max_depth=17, max_features=sqrt, min_samples_leaf=8, min_samples_split=11, n_estimators=99; total time=   1.9s\n",
      "[CV] END max_depth=17, max_features=sqrt, min_samples_leaf=8, min_samples_split=11, n_estimators=99; total time=   1.9s\n",
      "[CV] END max_depth=17, max_features=sqrt, min_samples_leaf=8, min_samples_split=11, n_estimators=99; total time=   1.8s\n",
      "[CV] END max_depth=2, max_features=log2, min_samples_leaf=9, min_samples_split=8, n_estimators=67; total time=   0.2s\n",
      "[CV] END max_depth=2, max_features=log2, min_samples_leaf=9, min_samples_split=8, n_estimators=67; total time=   0.2s\n",
      "[CV] END max_depth=2, max_features=log2, min_samples_leaf=9, min_samples_split=8, n_estimators=67; total time=   0.2s\n",
      "[CV] END max_depth=2, max_features=log2, min_samples_leaf=9, min_samples_split=8, n_estimators=67; total time=   0.2s\n",
      "[CV] END max_depth=2, max_features=log2, min_samples_leaf=9, min_samples_split=8, n_estimators=67; total time=   0.2s\n"
     ]
    },
    {
     "name": "stderr",
     "output_type": "stream",
     "text": [
      "/opt/anaconda3/lib/python3.9/site-packages/sklearn/ensemble/_forest.py:424: FutureWarning: `max_features='auto'` has been deprecated in 1.1 and will be removed in 1.3. To keep the past behaviour, explicitly set `max_features='sqrt'` or remove this parameter as it is also the default value for RandomForestClassifiers and ExtraTreesClassifiers.\n",
      "  warn(\n"
     ]
    },
    {
     "name": "stdout",
     "output_type": "stream",
     "text": [
      "[CV] END max_depth=18, max_features=auto, min_samples_leaf=11, min_samples_split=5, n_estimators=30; total time=   0.6s\n"
     ]
    },
    {
     "name": "stderr",
     "output_type": "stream",
     "text": [
      "/opt/anaconda3/lib/python3.9/site-packages/sklearn/ensemble/_forest.py:424: FutureWarning: `max_features='auto'` has been deprecated in 1.1 and will be removed in 1.3. To keep the past behaviour, explicitly set `max_features='sqrt'` or remove this parameter as it is also the default value for RandomForestClassifiers and ExtraTreesClassifiers.\n",
      "  warn(\n"
     ]
    },
    {
     "name": "stdout",
     "output_type": "stream",
     "text": [
      "[CV] END max_depth=18, max_features=auto, min_samples_leaf=11, min_samples_split=5, n_estimators=30; total time=   0.5s\n"
     ]
    },
    {
     "name": "stderr",
     "output_type": "stream",
     "text": [
      "/opt/anaconda3/lib/python3.9/site-packages/sklearn/ensemble/_forest.py:424: FutureWarning: `max_features='auto'` has been deprecated in 1.1 and will be removed in 1.3. To keep the past behaviour, explicitly set `max_features='sqrt'` or remove this parameter as it is also the default value for RandomForestClassifiers and ExtraTreesClassifiers.\n",
      "  warn(\n"
     ]
    },
    {
     "name": "stdout",
     "output_type": "stream",
     "text": [
      "[CV] END max_depth=18, max_features=auto, min_samples_leaf=11, min_samples_split=5, n_estimators=30; total time=   0.5s\n"
     ]
    },
    {
     "name": "stderr",
     "output_type": "stream",
     "text": [
      "/opt/anaconda3/lib/python3.9/site-packages/sklearn/ensemble/_forest.py:424: FutureWarning: `max_features='auto'` has been deprecated in 1.1 and will be removed in 1.3. To keep the past behaviour, explicitly set `max_features='sqrt'` or remove this parameter as it is also the default value for RandomForestClassifiers and ExtraTreesClassifiers.\n",
      "  warn(\n"
     ]
    },
    {
     "name": "stdout",
     "output_type": "stream",
     "text": [
      "[CV] END max_depth=18, max_features=auto, min_samples_leaf=11, min_samples_split=5, n_estimators=30; total time=   0.5s\n"
     ]
    },
    {
     "name": "stderr",
     "output_type": "stream",
     "text": [
      "/opt/anaconda3/lib/python3.9/site-packages/sklearn/ensemble/_forest.py:424: FutureWarning: `max_features='auto'` has been deprecated in 1.1 and will be removed in 1.3. To keep the past behaviour, explicitly set `max_features='sqrt'` or remove this parameter as it is also the default value for RandomForestClassifiers and ExtraTreesClassifiers.\n",
      "  warn(\n"
     ]
    },
    {
     "name": "stdout",
     "output_type": "stream",
     "text": [
      "[CV] END max_depth=18, max_features=auto, min_samples_leaf=11, min_samples_split=5, n_estimators=30; total time=   0.5s\n",
      "[CV] END max_depth=4, max_features=sqrt, min_samples_leaf=5, min_samples_split=10, n_estimators=161; total time=   1.8s\n",
      "[CV] END max_depth=4, max_features=sqrt, min_samples_leaf=5, min_samples_split=10, n_estimators=161; total time=   1.8s\n",
      "[CV] END max_depth=4, max_features=sqrt, min_samples_leaf=5, min_samples_split=10, n_estimators=161; total time=   1.8s\n",
      "[CV] END max_depth=4, max_features=sqrt, min_samples_leaf=5, min_samples_split=10, n_estimators=161; total time=   1.8s\n",
      "[CV] END max_depth=4, max_features=sqrt, min_samples_leaf=5, min_samples_split=10, n_estimators=161; total time=   1.8s\n"
     ]
    },
    {
     "name": "stderr",
     "output_type": "stream",
     "text": [
      "/opt/anaconda3/lib/python3.9/site-packages/sklearn/ensemble/_forest.py:424: FutureWarning: `max_features='auto'` has been deprecated in 1.1 and will be removed in 1.3. To keep the past behaviour, explicitly set `max_features='sqrt'` or remove this parameter as it is also the default value for RandomForestClassifiers and ExtraTreesClassifiers.\n",
      "  warn(\n"
     ]
    },
    {
     "name": "stdout",
     "output_type": "stream",
     "text": [
      "[CV] END max_depth=3, max_features=auto, min_samples_leaf=3, min_samples_split=17, n_estimators=45; total time=   0.4s\n"
     ]
    },
    {
     "name": "stderr",
     "output_type": "stream",
     "text": [
      "/opt/anaconda3/lib/python3.9/site-packages/sklearn/ensemble/_forest.py:424: FutureWarning: `max_features='auto'` has been deprecated in 1.1 and will be removed in 1.3. To keep the past behaviour, explicitly set `max_features='sqrt'` or remove this parameter as it is also the default value for RandomForestClassifiers and ExtraTreesClassifiers.\n",
      "  warn(\n"
     ]
    },
    {
     "name": "stdout",
     "output_type": "stream",
     "text": [
      "[CV] END max_depth=3, max_features=auto, min_samples_leaf=3, min_samples_split=17, n_estimators=45; total time=   0.4s\n"
     ]
    },
    {
     "name": "stderr",
     "output_type": "stream",
     "text": [
      "/opt/anaconda3/lib/python3.9/site-packages/sklearn/ensemble/_forest.py:424: FutureWarning: `max_features='auto'` has been deprecated in 1.1 and will be removed in 1.3. To keep the past behaviour, explicitly set `max_features='sqrt'` or remove this parameter as it is also the default value for RandomForestClassifiers and ExtraTreesClassifiers.\n",
      "  warn(\n"
     ]
    },
    {
     "name": "stdout",
     "output_type": "stream",
     "text": [
      "[CV] END max_depth=3, max_features=auto, min_samples_leaf=3, min_samples_split=17, n_estimators=45; total time=   0.4s\n"
     ]
    },
    {
     "name": "stderr",
     "output_type": "stream",
     "text": [
      "/opt/anaconda3/lib/python3.9/site-packages/sklearn/ensemble/_forest.py:424: FutureWarning: `max_features='auto'` has been deprecated in 1.1 and will be removed in 1.3. To keep the past behaviour, explicitly set `max_features='sqrt'` or remove this parameter as it is also the default value for RandomForestClassifiers and ExtraTreesClassifiers.\n",
      "  warn(\n"
     ]
    },
    {
     "name": "stdout",
     "output_type": "stream",
     "text": [
      "[CV] END max_depth=3, max_features=auto, min_samples_leaf=3, min_samples_split=17, n_estimators=45; total time=   0.4s\n"
     ]
    },
    {
     "name": "stderr",
     "output_type": "stream",
     "text": [
      "/opt/anaconda3/lib/python3.9/site-packages/sklearn/ensemble/_forest.py:424: FutureWarning: `max_features='auto'` has been deprecated in 1.1 and will be removed in 1.3. To keep the past behaviour, explicitly set `max_features='sqrt'` or remove this parameter as it is also the default value for RandomForestClassifiers and ExtraTreesClassifiers.\n",
      "  warn(\n"
     ]
    },
    {
     "name": "stdout",
     "output_type": "stream",
     "text": [
      "[CV] END max_depth=3, max_features=auto, min_samples_leaf=3, min_samples_split=17, n_estimators=45; total time=   0.4s\n"
     ]
    },
    {
     "name": "stderr",
     "output_type": "stream",
     "text": [
      "/opt/anaconda3/lib/python3.9/site-packages/sklearn/ensemble/_forest.py:424: FutureWarning: `max_features='auto'` has been deprecated in 1.1 and will be removed in 1.3. To keep the past behaviour, explicitly set `max_features='sqrt'` or remove this parameter as it is also the default value for RandomForestClassifiers and ExtraTreesClassifiers.\n",
      "  warn(\n"
     ]
    },
    {
     "name": "stdout",
     "output_type": "stream",
     "text": [
      "[CV] END max_depth=18, max_features=auto, min_samples_leaf=7, min_samples_split=6, n_estimators=21; total time=   0.4s\n"
     ]
    },
    {
     "name": "stderr",
     "output_type": "stream",
     "text": [
      "/opt/anaconda3/lib/python3.9/site-packages/sklearn/ensemble/_forest.py:424: FutureWarning: `max_features='auto'` has been deprecated in 1.1 and will be removed in 1.3. To keep the past behaviour, explicitly set `max_features='sqrt'` or remove this parameter as it is also the default value for RandomForestClassifiers and ExtraTreesClassifiers.\n",
      "  warn(\n"
     ]
    },
    {
     "name": "stdout",
     "output_type": "stream",
     "text": [
      "[CV] END max_depth=18, max_features=auto, min_samples_leaf=7, min_samples_split=6, n_estimators=21; total time=   0.4s\n"
     ]
    },
    {
     "name": "stderr",
     "output_type": "stream",
     "text": [
      "/opt/anaconda3/lib/python3.9/site-packages/sklearn/ensemble/_forest.py:424: FutureWarning: `max_features='auto'` has been deprecated in 1.1 and will be removed in 1.3. To keep the past behaviour, explicitly set `max_features='sqrt'` or remove this parameter as it is also the default value for RandomForestClassifiers and ExtraTreesClassifiers.\n",
      "  warn(\n"
     ]
    },
    {
     "name": "stdout",
     "output_type": "stream",
     "text": [
      "[CV] END max_depth=18, max_features=auto, min_samples_leaf=7, min_samples_split=6, n_estimators=21; total time=   0.4s\n"
     ]
    },
    {
     "name": "stderr",
     "output_type": "stream",
     "text": [
      "/opt/anaconda3/lib/python3.9/site-packages/sklearn/ensemble/_forest.py:424: FutureWarning: `max_features='auto'` has been deprecated in 1.1 and will be removed in 1.3. To keep the past behaviour, explicitly set `max_features='sqrt'` or remove this parameter as it is also the default value for RandomForestClassifiers and ExtraTreesClassifiers.\n",
      "  warn(\n"
     ]
    },
    {
     "name": "stdout",
     "output_type": "stream",
     "text": [
      "[CV] END max_depth=18, max_features=auto, min_samples_leaf=7, min_samples_split=6, n_estimators=21; total time=   0.4s\n"
     ]
    },
    {
     "name": "stderr",
     "output_type": "stream",
     "text": [
      "/opt/anaconda3/lib/python3.9/site-packages/sklearn/ensemble/_forest.py:424: FutureWarning: `max_features='auto'` has been deprecated in 1.1 and will be removed in 1.3. To keep the past behaviour, explicitly set `max_features='sqrt'` or remove this parameter as it is also the default value for RandomForestClassifiers and ExtraTreesClassifiers.\n",
      "  warn(\n"
     ]
    },
    {
     "name": "stdout",
     "output_type": "stream",
     "text": [
      "[CV] END max_depth=18, max_features=auto, min_samples_leaf=7, min_samples_split=6, n_estimators=21; total time=   0.4s\n",
      "[CV] END max_depth=17, max_features=log2, min_samples_leaf=13, min_samples_split=4, n_estimators=114; total time=   0.7s\n",
      "[CV] END max_depth=17, max_features=log2, min_samples_leaf=13, min_samples_split=4, n_estimators=114; total time=   0.6s\n",
      "[CV] END max_depth=17, max_features=log2, min_samples_leaf=13, min_samples_split=4, n_estimators=114; total time=   0.6s\n",
      "[CV] END max_depth=17, max_features=log2, min_samples_leaf=13, min_samples_split=4, n_estimators=114; total time=   0.6s\n",
      "[CV] END max_depth=17, max_features=log2, min_samples_leaf=13, min_samples_split=4, n_estimators=114; total time=   0.6s\n"
     ]
    },
    {
     "name": "stderr",
     "output_type": "stream",
     "text": [
      "/opt/anaconda3/lib/python3.9/site-packages/sklearn/ensemble/_forest.py:424: FutureWarning: `max_features='auto'` has been deprecated in 1.1 and will be removed in 1.3. To keep the past behaviour, explicitly set `max_features='sqrt'` or remove this parameter as it is also the default value for RandomForestClassifiers and ExtraTreesClassifiers.\n",
      "  warn(\n"
     ]
    },
    {
     "name": "stdout",
     "output_type": "stream",
     "text": [
      "[CV] END max_depth=17, max_features=auto, min_samples_leaf=16, min_samples_split=14, n_estimators=196; total time=   3.2s\n"
     ]
    },
    {
     "name": "stderr",
     "output_type": "stream",
     "text": [
      "/opt/anaconda3/lib/python3.9/site-packages/sklearn/ensemble/_forest.py:424: FutureWarning: `max_features='auto'` has been deprecated in 1.1 and will be removed in 1.3. To keep the past behaviour, explicitly set `max_features='sqrt'` or remove this parameter as it is also the default value for RandomForestClassifiers and ExtraTreesClassifiers.\n",
      "  warn(\n"
     ]
    },
    {
     "name": "stdout",
     "output_type": "stream",
     "text": [
      "[CV] END max_depth=17, max_features=auto, min_samples_leaf=16, min_samples_split=14, n_estimators=196; total time=   3.1s\n"
     ]
    },
    {
     "name": "stderr",
     "output_type": "stream",
     "text": [
      "/opt/anaconda3/lib/python3.9/site-packages/sklearn/ensemble/_forest.py:424: FutureWarning: `max_features='auto'` has been deprecated in 1.1 and will be removed in 1.3. To keep the past behaviour, explicitly set `max_features='sqrt'` or remove this parameter as it is also the default value for RandomForestClassifiers and ExtraTreesClassifiers.\n",
      "  warn(\n"
     ]
    },
    {
     "name": "stdout",
     "output_type": "stream",
     "text": [
      "[CV] END max_depth=17, max_features=auto, min_samples_leaf=16, min_samples_split=14, n_estimators=196; total time=   3.1s\n"
     ]
    },
    {
     "name": "stderr",
     "output_type": "stream",
     "text": [
      "/opt/anaconda3/lib/python3.9/site-packages/sklearn/ensemble/_forest.py:424: FutureWarning: `max_features='auto'` has been deprecated in 1.1 and will be removed in 1.3. To keep the past behaviour, explicitly set `max_features='sqrt'` or remove this parameter as it is also the default value for RandomForestClassifiers and ExtraTreesClassifiers.\n",
      "  warn(\n"
     ]
    },
    {
     "name": "stdout",
     "output_type": "stream",
     "text": [
      "[CV] END max_depth=17, max_features=auto, min_samples_leaf=16, min_samples_split=14, n_estimators=196; total time=   3.1s\n"
     ]
    },
    {
     "name": "stderr",
     "output_type": "stream",
     "text": [
      "/opt/anaconda3/lib/python3.9/site-packages/sklearn/ensemble/_forest.py:424: FutureWarning: `max_features='auto'` has been deprecated in 1.1 and will be removed in 1.3. To keep the past behaviour, explicitly set `max_features='sqrt'` or remove this parameter as it is also the default value for RandomForestClassifiers and ExtraTreesClassifiers.\n",
      "  warn(\n"
     ]
    },
    {
     "name": "stdout",
     "output_type": "stream",
     "text": [
      "[CV] END max_depth=17, max_features=auto, min_samples_leaf=16, min_samples_split=14, n_estimators=196; total time=   3.1s\n"
     ]
    },
    {
     "name": "stderr",
     "output_type": "stream",
     "text": [
      "/opt/anaconda3/lib/python3.9/site-packages/sklearn/ensemble/_forest.py:424: FutureWarning: `max_features='auto'` has been deprecated in 1.1 and will be removed in 1.3. To keep the past behaviour, explicitly set `max_features='sqrt'` or remove this parameter as it is also the default value for RandomForestClassifiers and ExtraTreesClassifiers.\n",
      "  warn(\n"
     ]
    },
    {
     "name": "stdout",
     "output_type": "stream",
     "text": [
      "[CV] END max_depth=19, max_features=auto, min_samples_leaf=4, min_samples_split=13, n_estimators=198; total time=   4.5s\n"
     ]
    },
    {
     "name": "stderr",
     "output_type": "stream",
     "text": [
      "/opt/anaconda3/lib/python3.9/site-packages/sklearn/ensemble/_forest.py:424: FutureWarning: `max_features='auto'` has been deprecated in 1.1 and will be removed in 1.3. To keep the past behaviour, explicitly set `max_features='sqrt'` or remove this parameter as it is also the default value for RandomForestClassifiers and ExtraTreesClassifiers.\n",
      "  warn(\n"
     ]
    },
    {
     "name": "stdout",
     "output_type": "stream",
     "text": [
      "[CV] END max_depth=19, max_features=auto, min_samples_leaf=4, min_samples_split=13, n_estimators=198; total time=   4.3s\n"
     ]
    },
    {
     "name": "stderr",
     "output_type": "stream",
     "text": [
      "/opt/anaconda3/lib/python3.9/site-packages/sklearn/ensemble/_forest.py:424: FutureWarning: `max_features='auto'` has been deprecated in 1.1 and will be removed in 1.3. To keep the past behaviour, explicitly set `max_features='sqrt'` or remove this parameter as it is also the default value for RandomForestClassifiers and ExtraTreesClassifiers.\n",
      "  warn(\n"
     ]
    },
    {
     "name": "stdout",
     "output_type": "stream",
     "text": [
      "[CV] END max_depth=19, max_features=auto, min_samples_leaf=4, min_samples_split=13, n_estimators=198; total time=   4.3s\n"
     ]
    },
    {
     "name": "stderr",
     "output_type": "stream",
     "text": [
      "/opt/anaconda3/lib/python3.9/site-packages/sklearn/ensemble/_forest.py:424: FutureWarning: `max_features='auto'` has been deprecated in 1.1 and will be removed in 1.3. To keep the past behaviour, explicitly set `max_features='sqrt'` or remove this parameter as it is also the default value for RandomForestClassifiers and ExtraTreesClassifiers.\n",
      "  warn(\n"
     ]
    },
    {
     "name": "stdout",
     "output_type": "stream",
     "text": [
      "[CV] END max_depth=19, max_features=auto, min_samples_leaf=4, min_samples_split=13, n_estimators=198; total time=   4.3s\n"
     ]
    },
    {
     "name": "stderr",
     "output_type": "stream",
     "text": [
      "/opt/anaconda3/lib/python3.9/site-packages/sklearn/ensemble/_forest.py:424: FutureWarning: `max_features='auto'` has been deprecated in 1.1 and will be removed in 1.3. To keep the past behaviour, explicitly set `max_features='sqrt'` or remove this parameter as it is also the default value for RandomForestClassifiers and ExtraTreesClassifiers.\n",
      "  warn(\n"
     ]
    },
    {
     "name": "stdout",
     "output_type": "stream",
     "text": [
      "[CV] END max_depth=19, max_features=auto, min_samples_leaf=4, min_samples_split=13, n_estimators=198; total time=   4.3s\n",
      "[CV] END max_depth=9, max_features=log2, min_samples_leaf=12, min_samples_split=10, n_estimators=37; total time=   0.2s\n",
      "[CV] END max_depth=9, max_features=log2, min_samples_leaf=12, min_samples_split=10, n_estimators=37; total time=   0.2s\n",
      "[CV] END max_depth=9, max_features=log2, min_samples_leaf=12, min_samples_split=10, n_estimators=37; total time=   0.2s\n",
      "[CV] END max_depth=9, max_features=log2, min_samples_leaf=12, min_samples_split=10, n_estimators=37; total time=   0.2s\n",
      "[CV] END max_depth=9, max_features=log2, min_samples_leaf=12, min_samples_split=10, n_estimators=37; total time=   0.2s\n",
      "[CV] END max_depth=14, max_features=log2, min_samples_leaf=19, min_samples_split=16, n_estimators=153; total time=   0.8s\n",
      "[CV] END max_depth=14, max_features=log2, min_samples_leaf=19, min_samples_split=16, n_estimators=153; total time=   0.8s\n",
      "[CV] END max_depth=14, max_features=log2, min_samples_leaf=19, min_samples_split=16, n_estimators=153; total time=   0.8s\n",
      "[CV] END max_depth=14, max_features=log2, min_samples_leaf=19, min_samples_split=16, n_estimators=153; total time=   0.8s\n",
      "[CV] END max_depth=14, max_features=log2, min_samples_leaf=19, min_samples_split=16, n_estimators=153; total time=   0.8s\n"
     ]
    },
    {
     "name": "stderr",
     "output_type": "stream",
     "text": [
      "/opt/anaconda3/lib/python3.9/site-packages/sklearn/ensemble/_forest.py:424: FutureWarning: `max_features='auto'` has been deprecated in 1.1 and will be removed in 1.3. To keep the past behaviour, explicitly set `max_features='sqrt'` or remove this parameter as it is also the default value for RandomForestClassifiers and ExtraTreesClassifiers.\n",
      "  warn(\n"
     ]
    },
    {
     "name": "stdout",
     "output_type": "stream",
     "text": [
      "Best Parameters: {'max_depth': 13, 'max_features': 'auto', 'min_samples_leaf': 3, 'min_samples_split': 8, 'n_estimators': 164}\n",
      "Best Score: 0.7240699458267414\n",
      "              precision    recall  f1-score   support\n",
      "\n",
      "        Fair       1.00      0.84      0.91       364\n",
      "       Great       0.95      1.00      0.97      1289\n",
      "        Poor       0.99      0.96      0.98       391\n",
      "\n",
      "    accuracy                           0.96      2044\n",
      "   macro avg       0.98      0.93      0.95      2044\n",
      "weighted avg       0.97      0.96      0.96      2044\n",
      "\n"
     ]
    }
   ],
   "source": [
    "from sklearn.model_selection import RandomizedSearchCV\n",
    "from sklearn.ensemble import RandomForestClassifier\n",
    "from sklearn.datasets import load_iris\n",
    "from sklearn.metrics import classification_report\n",
    "from scipy.stats import randint\n",
    "\n",
    "#load training and testing data\n",
    "train_df = aligned_df[aligned_df['category'] == 'Silver'].drop(columns='category')\n",
    "test_df = aligned_df[aligned_df['category'] == 'Silver'].drop(columns='category')\n",
    "\n",
    "#create train, test objects\n",
    "X_train = train_df.drop(columns=['FileName_BlastocystOriginal', 'ImageSet_ImageSet',\n",
    "       'MD5Digest_BlastocystOriginal', 'Metadata_FileLocation',\n",
    "       'PathName_BlastocystOriginal', 'ProcessingStatus',\n",
    "       'URL_BlastocystOriginal', 'label'])\n",
    "y_train = train_df['label']\n",
    "\n",
    "X_test = test_df.drop(columns=['FileName_BlastocystOriginal', 'ImageSet_ImageSet',\n",
    "       'MD5Digest_BlastocystOriginal', 'Metadata_FileLocation',\n",
    "       'PathName_BlastocystOriginal', 'ProcessingStatus',\n",
    "       'URL_BlastocystOriginal', 'label'])\n",
    "y_test = test_df['label']\n",
    "\n",
    "#Implement RF model\n",
    "model = RandomForestClassifier()\n",
    "\n",
    "#Define the parameter distribution\n",
    "param_dist = {\n",
    "    'n_estimators': randint(10, 200),        \n",
    "    'max_features': ['auto', 'sqrt', 'log2'],  \n",
    "    'max_depth': randint(1, 20),               \n",
    "    'min_samples_split': randint(2, 20),      \n",
    "    'min_samples_leaf': randint(1, 20)        \n",
    "}\n",
    "\n",
    "#Create the RandomizedSearchCV object to optimize for best features\n",
    "random_search = RandomizedSearchCV(estimator=model, param_distributions=param_dist, n_iter=100, cv=5, verbose=2, scoring='accuracy', random_state=42, error_score='raise')\n",
    "\n",
    "#Perform randomized search\n",
    "random_search.fit(X_train, y_train)\n",
    "\n",
    "#Output best parameters and corresponding score\n",
    "print(\"Best Parameters:\", random_search.best_params_)\n",
    "print(\"Best Score:\", random_search.best_score_)\n",
    "\n",
    "#Use the best model to make predictions\n",
    "best_model = random_search.best_estimator_\n",
    "y_pred = best_model.predict(X_test)\n",
    "\n",
    "#Evaluate the model\n",
    "print(classification_report(y_test, y_pred))\n"
   ]
  },
  {
   "cell_type": "code",
   "execution_count": null,
   "id": "033697ba",
   "metadata": {},
   "outputs": [],
   "source": []
  }
 ],
 "metadata": {
  "kernelspec": {
   "display_name": "Python 3 (ipykernel)",
   "language": "python",
   "name": "python3"
  },
  "language_info": {
   "codemirror_mode": {
    "name": "ipython",
    "version": 3
   },
   "file_extension": ".py",
   "mimetype": "text/x-python",
   "name": "python",
   "nbconvert_exporter": "python",
   "pygments_lexer": "ipython3",
   "version": "3.9.12"
  }
 },
 "nbformat": 4,
 "nbformat_minor": 5
}
