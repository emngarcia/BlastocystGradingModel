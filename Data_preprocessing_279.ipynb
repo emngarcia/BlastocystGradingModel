{
 "cells": [
  {
   "cell_type": "code",
   "execution_count": 1,
   "id": "86f3fe68",
   "metadata": {},
   "outputs": [],
   "source": [
    "#This file aims to preprocess the provided dataset into our NEQsi score classification cateogries\n",
    "import pandas as pd"
   ]
  },
  {
   "cell_type": "code",
   "execution_count": 2,
   "id": "bc39d15e",
   "metadata": {},
   "outputs": [],
   "source": [
    "#load in silver training set and gold test set (replace file path to your file path)\n",
    "df_silver = pd.read_csv(\"/Users/pranavsomani/Downloads/Blastocyst_Dataset/Gardner_train_silver.csv\", sep=';')\n",
    "df_gold = pd.read_csv(\"/Users/pranavsomani/Downloads/Blastocyst_Dataset/Gardner_test_gold_onlyGardnerScores.csv\", sep=';')"
   ]
  },
  {
   "cell_type": "code",
   "execution_count": 3,
   "id": "7889b716",
   "metadata": {},
   "outputs": [],
   "source": [
    "#add one to both EXP categories to match label process in NEQsi paper\n",
    "df_silver['EXP_silver'] = df_silver['EXP_silver'] + 1\n",
    "df_gold['EXP_gold'] = df_gold['EXP_gold'] + 1"
   ]
  },
  {
   "cell_type": "code",
   "execution_count": 4,
   "id": "1fdbf00b",
   "metadata": {},
   "outputs": [],
   "source": [
    "#replace NA values with 1 as told to do so in NEQsi paper\n",
    "df_gold[\"EXP_gold\"].fillna(1, inplace = True)\n",
    "df_gold.fillna(\"ND\", inplace=True) "
   ]
  },
  {
   "cell_type": "code",
   "execution_count": 5,
   "id": "d85c0eca",
   "metadata": {},
   "outputs": [],
   "source": [
    "#translate numerical scores into their alphabetical counterparts. This information is then later used to calculate NEQsi scores\n",
    "def ICM_filter(num):\n",
    "    if num == 0:\n",
    "        return \"A\"\n",
    "    elif num == 1:\n",
    "        return \"B\"\n",
    "    elif num == 2:\n",
    "        return \"C\"\n",
    "    elif num == 3:\n",
    "        return \"ND\"\n",
    "    elif type(num) == None:\n",
    "        return \"ND\"\n",
    "def ICM_filter_gold(num):\n",
    "    if num == '0':\n",
    "        return \"A\"\n",
    "    elif num == '1':\n",
    "        return \"B\"\n",
    "    elif num == '2':\n",
    "        return \"C\"\n",
    "    elif num == 'ND':\n",
    "        return \"ND\"\n",
    "def TE_filter(num):\n",
    "    if num == 0:\n",
    "        return \"A\"\n",
    "    elif num == 1:\n",
    "        return \"B\"\n",
    "    elif num == 2:\n",
    "        return \"C\"\n",
    "    elif num == 3:\n",
    "        return \"D\"\n",
    "def TE_filter_gold(num):\n",
    "    if num == '0':\n",
    "        return \"A\"\n",
    "    elif num == '1':\n",
    "        return \"B\"\n",
    "    elif num == '2':\n",
    "        return \"C\"\n",
    "    elif num == 'ND':\n",
    "        return \"ND\"\n",
    "df_silver['ICM_silver'] = df_silver['ICM_silver'].apply(lambda x: ICM_filter(x))\n",
    "df_gold['ICM_gold'] = df_gold['ICM_gold'].apply(lambda x: ICM_filter_gold(x))\n",
    "df_silver['TE_silver'] = df_silver['TE_silver'].apply(lambda x: TE_filter(x))\n",
    "df_gold['TE_gold'] = df_gold['TE_gold'].apply(lambda x: TE_filter_gold(x))"
   ]
  },
  {
   "cell_type": "code",
   "execution_count": 7,
   "id": "f7838644",
   "metadata": {},
   "outputs": [],
   "source": [
    "#combine alphabetical scores to match NEQsi calculation\n",
    "df_silver[\"Combined\"] = df_silver[\"ICM_silver\"] + df_silver[\"TE_silver\"]\n",
    "df_gold[\"Combined\"] = df_gold[\"ICM_gold\"] + df_gold[\"TE_gold\"]"
   ]
  },
  {
   "cell_type": "code",
   "execution_count": 9,
   "id": "93fee0f5",
   "metadata": {},
   "outputs": [],
   "source": [
    "#return numerical value corresponding to alphabetical classifications\n",
    "def label_func(val):\n",
    "    if val == \"AA\":\n",
    "        return 5\n",
    "    elif (val == \"AB\" or val == \"BA\"):\n",
    "        return 4\n",
    "    elif(val == \"AC\" or val == \"BB\" or val == \"CA\"):\n",
    "        return 3\n",
    "    elif(val == \"CB\" or val == \"BC\"):\n",
    "        return 2\n",
    "    elif(val == \"CC\"):\n",
    "        return 1\n",
    "    else:\n",
    "        return 0\n",
    "\n",
    "df_silver[\"Combined_values\"] = df_silver[\"Combined\"].apply(lambda x: label_func(x))\n",
    "df_gold[\"Combined_values\"] = df_gold[\"Combined\"].apply(lambda x: label_func(x))"
   ]
  },
  {
   "cell_type": "code",
   "execution_count": 10,
   "id": "346f3c08",
   "metadata": {},
   "outputs": [],
   "source": [
    "df_gold['EXP_gold'] = df_gold['EXP_gold'].replace({'ND': 1})"
   ]
  },
  {
   "cell_type": "code",
   "execution_count": 11,
   "id": "9b2a6e10",
   "metadata": {},
   "outputs": [],
   "source": [
    "#return NEQsi scores for each blastocyst\n",
    "df_silver[\"NESQI_scores\"] = df_silver[\"EXP_silver\"] + df_silver[\"Combined_values\"]\n",
    "df_gold[\"NESQI_scores\"] = df_gold[\"EXP_gold\"] + df_gold[\"Combined_values\"]"
   ]
  },
  {
   "cell_type": "code",
   "execution_count": 12,
   "id": "f0bb9267",
   "metadata": {},
   "outputs": [],
   "source": [
    "#categorize each NEQsi score as its corresponding bucket/class\n",
    "def nesqi_bin_label(num):\n",
    "    if num <= 3:\n",
    "        return \"Poor\"\n",
    "    elif (num >=4 and num <= 7):\n",
    "        return \"Fair\"\n",
    "    elif (num >= 8):\n",
    "        return \"Great\"\n",
    "\n",
    "df_silver[\"label\"] = df_silver[\"NESQI_scores\"].apply(lambda x: nesqi_bin_label(x))\n",
    "df_gold[\"label\"] = df_gold[\"NESQI_scores\"].apply(lambda x: nesqi_bin_label(x))"
   ]
  },
  {
   "cell_type": "code",
   "execution_count": 13,
   "id": "c1c9be9b",
   "metadata": {},
   "outputs": [],
   "source": [
    "#save labeled dataset\n",
    "df_silver.to_csv(\"silver_labeled.csv\")\n",
    "df_gold.to_csv(\"gold_labeled.csv\")"
   ]
  },
  {
   "cell_type": "code",
   "execution_count": null,
   "id": "d4a66766",
   "metadata": {},
   "outputs": [],
   "source": []
  },
  {
   "cell_type": "code",
   "execution_count": null,
   "id": "dcab2899",
   "metadata": {},
   "outputs": [],
   "source": []
  }
 ],
 "metadata": {
  "kernelspec": {
   "display_name": "Python 3 (ipykernel)",
   "language": "python",
   "name": "python3"
  },
  "language_info": {
   "codemirror_mode": {
    "name": "ipython",
    "version": 3
   },
   "file_extension": ".py",
   "mimetype": "text/x-python",
   "name": "python",
   "nbconvert_exporter": "python",
   "pygments_lexer": "ipython3",
   "version": "3.9.12"
  }
 },
 "nbformat": 4,
 "nbformat_minor": 5
}
